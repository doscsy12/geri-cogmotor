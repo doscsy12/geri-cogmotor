{
 "cells": [
  {
   "cell_type": "markdown",
   "id": "0d048bec",
   "metadata": {},
   "source": [
    "## ARISE-GERI data analysis\n",
    "\n"
   ]
  },
  {
   "cell_type": "markdown",
   "id": "4b2071a0",
   "metadata": {},
   "source": [
    "*import libraries*"
   ]
  },
  {
   "cell_type": "code",
   "execution_count": 1,
   "id": "9c23cb56",
   "metadata": {},
   "outputs": [],
   "source": [
    "import pandas as pd\n",
    "import numpy as np\n",
    "import seaborn as sns\n",
    "import matplotlib.pyplot as plt\n",
    "%matplotlib inline\n",
    "import datetime \n",
    "import os\n",
    "import glob\n",
    "from scipy import interpolate\n",
    "import statistics"
   ]
  },
  {
   "cell_type": "code",
   "execution_count": 2,
   "id": "b4e62a85",
   "metadata": {},
   "outputs": [],
   "source": [
    "import warnings\n",
    "warnings.filterwarnings(\"ignore\")"
   ]
  },
  {
   "cell_type": "code",
   "execution_count": 3,
   "id": "07d87986",
   "metadata": {},
   "outputs": [],
   "source": [
    "pd.options.display.max_rows = 50"
   ]
  },
  {
   "cell_type": "markdown",
   "id": "5185625f",
   "metadata": {},
   "source": [
    "### Data"
   ]
  },
  {
   "cell_type": "code",
   "execution_count": 4,
   "id": "0faa5e71",
   "metadata": {},
   "outputs": [],
   "source": [
    "patient_nr = 'P07'\n",
    "path = './data/ARISE_GERI/' + patient_nr "
   ]
  },
  {
   "cell_type": "markdown",
   "id": "e8ae4a58",
   "metadata": {},
   "source": [
    "**H-MAN sensor data (FILE_ID.dat)**"
   ]
  },
  {
   "cell_type": "code",
   "execution_count": 5,
   "id": "60ebe339",
   "metadata": {},
   "outputs": [],
   "source": [
    "# loop dfs from *.dat for defined patient_nr\n",
    "list_of_dfs = []\n",
    "\n",
    "list_of_dfs = [pd.read_csv(filename, sep='\\t+', header=[1]) for filename in glob.glob(path + '/*.dat')]"
   ]
  },
  {
   "cell_type": "code",
   "execution_count": 6,
   "id": "f5a88594",
   "metadata": {},
   "outputs": [
    {
     "data": {
      "text/html": [
       "<div>\n",
       "<style scoped>\n",
       "    .dataframe tbody tr th:only-of-type {\n",
       "        vertical-align: middle;\n",
       "    }\n",
       "\n",
       "    .dataframe tbody tr th {\n",
       "        vertical-align: top;\n",
       "    }\n",
       "\n",
       "    .dataframe thead th {\n",
       "        text-align: right;\n",
       "    }\n",
       "</style>\n",
       "<table border=\"1\" class=\"dataframe\">\n",
       "  <thead>\n",
       "    <tr style=\"text-align: right;\">\n",
       "      <th></th>\n",
       "      <th>Time_msec</th>\n",
       "      <th>RawDataX</th>\n",
       "      <th>RawDataY</th>\n",
       "      <th>RawDataTorqueLeft</th>\n",
       "      <th>RawDataTorqueRight</th>\n",
       "    </tr>\n",
       "  </thead>\n",
       "  <tbody>\n",
       "    <tr>\n",
       "      <th>0</th>\n",
       "      <td>1</td>\n",
       "      <td>0.133907</td>\n",
       "      <td>-0.000302</td>\n",
       "      <td>0</td>\n",
       "      <td>0</td>\n",
       "    </tr>\n",
       "    <tr>\n",
       "      <th>1</th>\n",
       "      <td>2</td>\n",
       "      <td>0.133907</td>\n",
       "      <td>-0.000302</td>\n",
       "      <td>0</td>\n",
       "      <td>0</td>\n",
       "    </tr>\n",
       "    <tr>\n",
       "      <th>2</th>\n",
       "      <td>3</td>\n",
       "      <td>0.133907</td>\n",
       "      <td>-0.000302</td>\n",
       "      <td>0</td>\n",
       "      <td>0</td>\n",
       "    </tr>\n",
       "    <tr>\n",
       "      <th>3</th>\n",
       "      <td>4</td>\n",
       "      <td>0.133907</td>\n",
       "      <td>-0.000302</td>\n",
       "      <td>0</td>\n",
       "      <td>0</td>\n",
       "    </tr>\n",
       "    <tr>\n",
       "      <th>4</th>\n",
       "      <td>5</td>\n",
       "      <td>0.133907</td>\n",
       "      <td>-0.000302</td>\n",
       "      <td>0</td>\n",
       "      <td>0</td>\n",
       "    </tr>\n",
       "    <tr>\n",
       "      <th>...</th>\n",
       "      <td>...</td>\n",
       "      <td>...</td>\n",
       "      <td>...</td>\n",
       "      <td>...</td>\n",
       "      <td>...</td>\n",
       "    </tr>\n",
       "    <tr>\n",
       "      <th>888595</th>\n",
       "      <td>1887501</td>\n",
       "      <td>0.082461</td>\n",
       "      <td>0.212950</td>\n",
       "      <td>0</td>\n",
       "      <td>0</td>\n",
       "    </tr>\n",
       "    <tr>\n",
       "      <th>888596</th>\n",
       "      <td>1887502</td>\n",
       "      <td>0.082461</td>\n",
       "      <td>0.213000</td>\n",
       "      <td>0</td>\n",
       "      <td>0</td>\n",
       "    </tr>\n",
       "    <tr>\n",
       "      <th>888597</th>\n",
       "      <td>1887503</td>\n",
       "      <td>0.082461</td>\n",
       "      <td>0.213000</td>\n",
       "      <td>0</td>\n",
       "      <td>0</td>\n",
       "    </tr>\n",
       "    <tr>\n",
       "      <th>888598</th>\n",
       "      <td>1887504</td>\n",
       "      <td>0.082461</td>\n",
       "      <td>0.213050</td>\n",
       "      <td>0</td>\n",
       "      <td>0</td>\n",
       "    </tr>\n",
       "    <tr>\n",
       "      <th>888599</th>\n",
       "      <td>1887505</td>\n",
       "      <td>0.082461</td>\n",
       "      <td>0.213100</td>\n",
       "      <td>0</td>\n",
       "      <td>0</td>\n",
       "    </tr>\n",
       "  </tbody>\n",
       "</table>\n",
       "<p>888600 rows × 5 columns</p>\n",
       "</div>"
      ],
      "text/plain": [
       "        Time_msec  RawDataX  RawDataY  RawDataTorqueLeft  RawDataTorqueRight\n",
       "0               1  0.133907 -0.000302                  0                   0\n",
       "1               2  0.133907 -0.000302                  0                   0\n",
       "2               3  0.133907 -0.000302                  0                   0\n",
       "3               4  0.133907 -0.000302                  0                   0\n",
       "4               5  0.133907 -0.000302                  0                   0\n",
       "...           ...       ...       ...                ...                 ...\n",
       "888595    1887501  0.082461  0.212950                  0                   0\n",
       "888596    1887502  0.082461  0.213000                  0                   0\n",
       "888597    1887503  0.082461  0.213000                  0                   0\n",
       "888598    1887504  0.082461  0.213050                  0                   0\n",
       "888599    1887505  0.082461  0.213100                  0                   0\n",
       "\n",
       "[888600 rows x 5 columns]"
      ]
     },
     "execution_count": 6,
     "metadata": {},
     "output_type": "execute_result"
    }
   ],
   "source": [
    "# sample of one df\n",
    "list_of_dfs[0]"
   ]
  },
  {
   "cell_type": "code",
   "execution_count": 7,
   "id": "ae6f6531",
   "metadata": {},
   "outputs": [],
   "source": [
    "# change column names to lowercase\n",
    "for df in list_of_dfs:\n",
    "    df.columns = df.columns.str.lower()"
   ]
  },
  {
   "cell_type": "markdown",
   "id": "4e9b7752",
   "metadata": {},
   "source": [
    "**Time-stamped data (FILE_ID.tsd)**"
   ]
  },
  {
   "cell_type": "code",
   "execution_count": 8,
   "id": "55ebf828",
   "metadata": {},
   "outputs": [],
   "source": [
    "# loop tsds from *.tsd for each patient\n",
    "list_of_tsds = []\n",
    "\n",
    "list_of_tsds = [pd.read_csv(filename, sep='\\t+', header=[1]) for filename in glob.glob(path + '/*.tsd')]"
   ]
  },
  {
   "cell_type": "code",
   "execution_count": 9,
   "id": "dce3632a",
   "metadata": {},
   "outputs": [
    {
     "data": {
      "text/html": [
       "<div>\n",
       "<style scoped>\n",
       "    .dataframe tbody tr th:only-of-type {\n",
       "        vertical-align: middle;\n",
       "    }\n",
       "\n",
       "    .dataframe tbody tr th {\n",
       "        vertical-align: top;\n",
       "    }\n",
       "\n",
       "    .dataframe thead th {\n",
       "        text-align: right;\n",
       "    }\n",
       "</style>\n",
       "<table border=\"1\" class=\"dataframe\">\n",
       "  <thead>\n",
       "    <tr style=\"text-align: right;\">\n",
       "      <th></th>\n",
       "      <th>t</th>\n",
       "      <th>event_type</th>\n",
       "      <th>Obstacles/Outcome</th>\n",
       "    </tr>\n",
       "  </thead>\n",
       "  <tbody>\n",
       "    <tr>\n",
       "      <th>0</th>\n",
       "      <td>20</td>\n",
       "      <td>service_event_start</td>\n",
       "      <td>0</td>\n",
       "    </tr>\n",
       "    <tr>\n",
       "      <th>1</th>\n",
       "      <td>1330</td>\n",
       "      <td>collision</td>\n",
       "      <td>1</td>\n",
       "    </tr>\n",
       "    <tr>\n",
       "      <th>2</th>\n",
       "      <td>5145</td>\n",
       "      <td>collision</td>\n",
       "      <td>1</td>\n",
       "    </tr>\n",
       "    <tr>\n",
       "      <th>3</th>\n",
       "      <td>14995</td>\n",
       "      <td>collision</td>\n",
       "      <td>1</td>\n",
       "    </tr>\n",
       "    <tr>\n",
       "      <th>4</th>\n",
       "      <td>15320</td>\n",
       "      <td>collision</td>\n",
       "      <td>1</td>\n",
       "    </tr>\n",
       "    <tr>\n",
       "      <th>...</th>\n",
       "      <td>...</td>\n",
       "      <td>...</td>\n",
       "      <td>...</td>\n",
       "    </tr>\n",
       "    <tr>\n",
       "      <th>519</th>\n",
       "      <td>1880836</td>\n",
       "      <td>retrieval</td>\n",
       "      <td>0</td>\n",
       "    </tr>\n",
       "    <tr>\n",
       "      <th>520</th>\n",
       "      <td>1881855</td>\n",
       "      <td>collision</td>\n",
       "      <td>1</td>\n",
       "    </tr>\n",
       "    <tr>\n",
       "      <th>521</th>\n",
       "      <td>1887515</td>\n",
       "      <td>outcome_type</td>\n",
       "      <td>1</td>\n",
       "    </tr>\n",
       "    <tr>\n",
       "      <th>522</th>\n",
       "      <td>1887515</td>\n",
       "      <td>service_event_end</td>\n",
       "      <td>1</td>\n",
       "    </tr>\n",
       "    <tr>\n",
       "      <th>523</th>\n",
       "      <td>1887515</td>\n",
       "      <td>service_event_start</td>\n",
       "      <td>0</td>\n",
       "    </tr>\n",
       "  </tbody>\n",
       "</table>\n",
       "<p>524 rows × 3 columns</p>\n",
       "</div>"
      ],
      "text/plain": [
       "         t            event_type      Obstacles/Outcome\n",
       "0         20  service_event_start                     0\n",
       "1       1330            collision                     1\n",
       "2       5145            collision                     1\n",
       "3      14995            collision                     1\n",
       "4      15320            collision                     1\n",
       "..       ...                  ...                   ...\n",
       "519  1880836            retrieval                     0\n",
       "520  1881855            collision                     1\n",
       "521  1887515         outcome_type                     1\n",
       "522  1887515    service_event_end                     1\n",
       "523  1887515  service_event_start                     0\n",
       "\n",
       "[524 rows x 3 columns]"
      ]
     },
     "execution_count": 9,
     "metadata": {},
     "output_type": "execute_result"
    }
   ],
   "source": [
    "list_of_tsds[0]"
   ]
  },
  {
   "cell_type": "code",
   "execution_count": 10,
   "id": "b36f98d8",
   "metadata": {},
   "outputs": [],
   "source": [
    "# standardize columns names\n",
    "for tsd in list_of_tsds:\n",
    "    tsd.columns = tsd.columns.str.replace(' ','')\n",
    "    tsd.columns = tsd.columns.str.replace('/','_')\n",
    "    tsd.columns = tsd.columns.str.lower() "
   ]
  },
  {
   "cell_type": "markdown",
   "id": "461dc4b4",
   "metadata": {},
   "source": [
    "**Game parameters (FILE_ID.par)**"
   ]
  },
  {
   "cell_type": "code",
   "execution_count": 11,
   "id": "513d0e4e",
   "metadata": {},
   "outputs": [],
   "source": [
    "list_of_pars = []\n",
    "\n",
    "list_of_pars = [pd.read_csv(filename, header=[1]) for filename in glob.glob(path + '/*.par')]"
   ]
  },
  {
   "cell_type": "code",
   "execution_count": 12,
   "id": "ce942576",
   "metadata": {},
   "outputs": [
    {
     "data": {
      "text/html": [
       "<div>\n",
       "<style scoped>\n",
       "    .dataframe tbody tr th:only-of-type {\n",
       "        vertical-align: middle;\n",
       "    }\n",
       "\n",
       "    .dataframe tbody tr th {\n",
       "        vertical-align: top;\n",
       "    }\n",
       "\n",
       "    .dataframe thead th {\n",
       "        text-align: right;\n",
       "    }\n",
       "</style>\n",
       "<table border=\"1\" class=\"dataframe\">\n",
       "  <thead>\n",
       "    <tr style=\"text-align: right;\">\n",
       "      <th></th>\n",
       "      <th>CustomerCount:  12</th>\n",
       "    </tr>\n",
       "  </thead>\n",
       "  <tbody>\n",
       "    <tr>\n",
       "      <th>0</th>\n",
       "      <td>SessionTimeout:  60</td>\n",
       "    </tr>\n",
       "    <tr>\n",
       "      <th>1</th>\n",
       "      <td>FadeOutTime:  15</td>\n",
       "    </tr>\n",
       "    <tr>\n",
       "      <th>2</th>\n",
       "      <td>CustomerArrivalTime:  4</td>\n",
       "    </tr>\n",
       "    <tr>\n",
       "      <th>3</th>\n",
       "      <td>TotalBlocks:  7</td>\n",
       "    </tr>\n",
       "    <tr>\n",
       "      <th>4</th>\n",
       "      <td>CognitiveLevel:  2</td>\n",
       "    </tr>\n",
       "    <tr>\n",
       "      <th>5</th>\n",
       "      <td>HapticsLevel:  2</td>\n",
       "    </tr>\n",
       "    <tr>\n",
       "      <th>6</th>\n",
       "      <td>Damping Matrix A: 100 200 0 0</td>\n",
       "    </tr>\n",
       "    <tr>\n",
       "      <th>7</th>\n",
       "      <td>Damping Matrix B: 0 0 0 0</td>\n",
       "    </tr>\n",
       "    <tr>\n",
       "      <th>8</th>\n",
       "      <td>Damping Matrix C: -30 -30 30 0</td>\n",
       "    </tr>\n",
       "  </tbody>\n",
       "</table>\n",
       "</div>"
      ],
      "text/plain": [
       "               CustomerCount:  12\n",
       "0             SessionTimeout:  60\n",
       "1                FadeOutTime:  15\n",
       "2         CustomerArrivalTime:  4\n",
       "3                 TotalBlocks:  7\n",
       "4              CognitiveLevel:  2\n",
       "5                HapticsLevel:  2\n",
       "6   Damping Matrix A: 100 200 0 0\n",
       "7       Damping Matrix B: 0 0 0 0\n",
       "8  Damping Matrix C: -30 -30 30 0"
      ]
     },
     "execution_count": 12,
     "metadata": {},
     "output_type": "execute_result"
    }
   ],
   "source": [
    "# converting to one column \n",
    "list_of_pars[0]"
   ]
  },
  {
   "cell_type": "markdown",
   "id": "5b27f196",
   "metadata": {},
   "source": [
    "**Researcher reports (FILE_ID.rep)**"
   ]
  },
  {
   "cell_type": "code",
   "execution_count": 13,
   "id": "eacd6359",
   "metadata": {},
   "outputs": [],
   "source": [
    "list_of_reps = []\n",
    "\n",
    "for filename in glob.glob(path + '/*.rep'):\n",
    "    rep = pd.read_csv(filename, header=[0])\n",
    "    rep.set_axis(['patientid'], axis=1, inplace=True)\n",
    "    rep = rep['patientid'].str.split(' ', n=1, expand=True)\n",
    "    rep = rep.rename(columns={0 : 'parameter', 1 : 'value'})\n",
    "    rep['value'] = rep['value'].str.replace(' ','')\n",
    "    list_of_reps.append(rep)\n"
   ]
  },
  {
   "cell_type": "code",
   "execution_count": 14,
   "id": "7bc0506f",
   "metadata": {},
   "outputs": [
    {
     "data": {
      "text/html": [
       "<div>\n",
       "<style scoped>\n",
       "    .dataframe tbody tr th:only-of-type {\n",
       "        vertical-align: middle;\n",
       "    }\n",
       "\n",
       "    .dataframe tbody tr th {\n",
       "        vertical-align: top;\n",
       "    }\n",
       "\n",
       "    .dataframe thead th {\n",
       "        text-align: right;\n",
       "    }\n",
       "</style>\n",
       "<table border=\"1\" class=\"dataframe\">\n",
       "  <thead>\n",
       "    <tr style=\"text-align: right;\">\n",
       "      <th></th>\n",
       "      <th>parameter</th>\n",
       "      <th>value</th>\n",
       "    </tr>\n",
       "  </thead>\n",
       "  <tbody>\n",
       "    <tr>\n",
       "      <th>0</th>\n",
       "      <td>Patient</td>\n",
       "      <td>ID:p07_trial</td>\n",
       "    </tr>\n",
       "    <tr>\n",
       "      <th>1</th>\n",
       "      <td>SessionTerminationCondition</td>\n",
       "      <td>Completed</td>\n",
       "    </tr>\n",
       "    <tr>\n",
       "      <th>2</th>\n",
       "      <td>SessionDuration</td>\n",
       "      <td>31.15</td>\n",
       "    </tr>\n",
       "    <tr>\n",
       "      <th>3</th>\n",
       "      <td>sumofOutcomesType1</td>\n",
       "      <td>70</td>\n",
       "    </tr>\n",
       "    <tr>\n",
       "      <th>4</th>\n",
       "      <td>sumofOutcomesType2</td>\n",
       "      <td>14</td>\n",
       "    </tr>\n",
       "    <tr>\n",
       "      <th>5</th>\n",
       "      <td>sumofOutcomesType3</td>\n",
       "      <td>3</td>\n",
       "    </tr>\n",
       "    <tr>\n",
       "      <th>6</th>\n",
       "      <td>TotalCustomersServed</td>\n",
       "      <td>84</td>\n",
       "    </tr>\n",
       "    <tr>\n",
       "      <th>7</th>\n",
       "      <td>AverageReactionTime</td>\n",
       "      <td>14.37722</td>\n",
       "    </tr>\n",
       "    <tr>\n",
       "      <th>8</th>\n",
       "      <td>AverageSpeed</td>\n",
       "      <td>1</td>\n",
       "    </tr>\n",
       "    <tr>\n",
       "      <th>9</th>\n",
       "      <td>CollisionRate</td>\n",
       "      <td>2</td>\n",
       "    </tr>\n",
       "    <tr>\n",
       "      <th>10</th>\n",
       "      <td>CumulativePointScoreCognitive</td>\n",
       "      <td>308</td>\n",
       "    </tr>\n",
       "    <tr>\n",
       "      <th>11</th>\n",
       "      <td>CumulativePointScoreMotor</td>\n",
       "      <td>111</td>\n",
       "    </tr>\n",
       "  </tbody>\n",
       "</table>\n",
       "</div>"
      ],
      "text/plain": [
       "                        parameter         value\n",
       "0                         Patient  ID:p07_trial\n",
       "1     SessionTerminationCondition     Completed\n",
       "2                 SessionDuration         31.15\n",
       "3              sumofOutcomesType1            70\n",
       "4              sumofOutcomesType2            14\n",
       "5              sumofOutcomesType3             3\n",
       "6            TotalCustomersServed            84\n",
       "7             AverageReactionTime      14.37722\n",
       "8                    AverageSpeed             1\n",
       "9                   CollisionRate             2\n",
       "10  CumulativePointScoreCognitive           308\n",
       "11      CumulativePointScoreMotor           111"
      ]
     },
     "execution_count": 14,
     "metadata": {},
     "output_type": "execute_result"
    }
   ],
   "source": [
    "list_of_reps[0]"
   ]
  },
  {
   "cell_type": "markdown",
   "id": "0817f9cd",
   "metadata": {},
   "source": [
    "**quality timestamp check**"
   ]
  },
  {
   "cell_type": "code",
   "execution_count": 15,
   "id": "08db2115",
   "metadata": {},
   "outputs": [
    {
     "name": "stdout",
     "output_type": "stream",
     "text": [
      "trial0 pass\n",
      "trial1 pass\n",
      "trial2 pass\n",
      "trial3 pass\n",
      "trial4 pass\n",
      "trial5 pass\n",
      "trial6 pass\n",
      "trial7 pass\n"
     ]
    }
   ],
   "source": [
    "for index in range(0,len(list_of_tsds)):\n",
    "    diff = abs(list_of_tsds[index]['t'].iloc[-1]  - list_of_dfs[index]['time_msec'].iloc[-1]) \n",
    "    if diff > 15:\n",
    "        print(f'trial{index},{diff} msec, TIME DISCREPANCY IN DATA')\n",
    "    else:\n",
    "        print(f'trial{index} pass')"
   ]
  },
  {
   "cell_type": "markdown",
   "id": "4e9be90c",
   "metadata": {},
   "source": [
    "### EDA"
   ]
  },
  {
   "cell_type": "markdown",
   "id": "beba26e3",
   "metadata": {},
   "source": [
    "#### wrt svc_event"
   ]
  },
  {
   "cell_type": "markdown",
   "id": "01a14038",
   "metadata": {},
   "source": [
    "##### interpolate sensor data"
   ]
  },
  {
   "cell_type": "code",
   "execution_count": 16,
   "id": "85ae8780",
   "metadata": {},
   "outputs": [],
   "source": [
    "def convert_time(row):\n",
    "    '''convert msec to min'''\n",
    "    minutes, seconds = divmod(row['t'] / 1000, 60)\n",
    "    row['t_min'] = f'{minutes:0>2.0f}'  # only in min\n",
    "    return row"
   ]
  },
  {
   "cell_type": "markdown",
   "id": "1cb4b282",
   "metadata": {},
   "source": [
    "**merge main**"
   ]
  },
  {
   "cell_type": "code",
   "execution_count": 17,
   "id": "4bef98ae",
   "metadata": {},
   "outputs": [],
   "source": [
    "list_of_mains = []\n",
    "\n",
    "for tsd, df in zip(list_of_tsds,list_of_dfs):\n",
    "    # check duplicates\n",
    "    ids = df['time_msec']\n",
    "    df[ids.isin(ids[ids.duplicated()])]\n",
    "    \n",
    "    # drop duplicates\n",
    "    df = df.drop_duplicates(subset=['time_msec'],keep='first')\n",
    "    \n",
    "    df = df.set_index('time_msec')\n",
    "    df = df.reindex(range(0,df.index.astype(int)[-1]+1), fill_value=np.nan)\n",
    "    df = df.reset_index()\n",
    "    df.drop(labels=0,axis=0,inplace=True)\n",
    "    \n",
    "    # interpolate missing data\n",
    "    df['rawdatax'] = df['rawdatax'].interpolate().values.ravel().tolist()\n",
    "    df['rawdatay'] = df['rawdatay'].interpolate().values.ravel().tolist()\n",
    "    \n",
    "    # merge main df\n",
    "    main = pd.merge(tsd, df, how='left', left_on='t', right_on='time_msec')\n",
    "    main = main.apply(convert_time, axis=1)\n",
    "    main['t_min'] = main['t_min'].astype(int)\n",
    "    list_of_mains.append(main)"
   ]
  },
  {
   "cell_type": "code",
   "execution_count": 18,
   "id": "931f9447",
   "metadata": {},
   "outputs": [
    {
     "data": {
      "text/html": [
       "<div>\n",
       "<style scoped>\n",
       "    .dataframe tbody tr th:only-of-type {\n",
       "        vertical-align: middle;\n",
       "    }\n",
       "\n",
       "    .dataframe tbody tr th {\n",
       "        vertical-align: top;\n",
       "    }\n",
       "\n",
       "    .dataframe thead th {\n",
       "        text-align: right;\n",
       "    }\n",
       "</style>\n",
       "<table border=\"1\" class=\"dataframe\">\n",
       "  <thead>\n",
       "    <tr style=\"text-align: right;\">\n",
       "      <th></th>\n",
       "      <th>t</th>\n",
       "      <th>event_type</th>\n",
       "      <th>obstacles_outcome</th>\n",
       "      <th>time_msec</th>\n",
       "      <th>rawdatax</th>\n",
       "      <th>rawdatay</th>\n",
       "      <th>rawdatatorqueleft</th>\n",
       "      <th>rawdatatorqueright</th>\n",
       "      <th>t_min</th>\n",
       "    </tr>\n",
       "  </thead>\n",
       "  <tbody>\n",
       "    <tr>\n",
       "      <th>0</th>\n",
       "      <td>20</td>\n",
       "      <td>service_event_start</td>\n",
       "      <td>0</td>\n",
       "      <td>20.0</td>\n",
       "      <td>0.133907</td>\n",
       "      <td>-0.000302</td>\n",
       "      <td>0.0</td>\n",
       "      <td>0.0</td>\n",
       "      <td>0</td>\n",
       "    </tr>\n",
       "    <tr>\n",
       "      <th>1</th>\n",
       "      <td>1330</td>\n",
       "      <td>collision</td>\n",
       "      <td>1</td>\n",
       "      <td>1330.0</td>\n",
       "      <td>0.133907</td>\n",
       "      <td>-0.000302</td>\n",
       "      <td>NaN</td>\n",
       "      <td>NaN</td>\n",
       "      <td>0</td>\n",
       "    </tr>\n",
       "    <tr>\n",
       "      <th>2</th>\n",
       "      <td>5145</td>\n",
       "      <td>collision</td>\n",
       "      <td>1</td>\n",
       "      <td>5145.0</td>\n",
       "      <td>0.109353</td>\n",
       "      <td>0.075373</td>\n",
       "      <td>0.0</td>\n",
       "      <td>0.0</td>\n",
       "      <td>0</td>\n",
       "    </tr>\n",
       "    <tr>\n",
       "      <th>3</th>\n",
       "      <td>14995</td>\n",
       "      <td>collision</td>\n",
       "      <td>1</td>\n",
       "      <td>14995.0</td>\n",
       "      <td>0.319889</td>\n",
       "      <td>0.157482</td>\n",
       "      <td>0.0</td>\n",
       "      <td>0.0</td>\n",
       "      <td>0</td>\n",
       "    </tr>\n",
       "    <tr>\n",
       "      <th>4</th>\n",
       "      <td>15320</td>\n",
       "      <td>collision</td>\n",
       "      <td>1</td>\n",
       "      <td>15320.0</td>\n",
       "      <td>0.319663</td>\n",
       "      <td>0.138054</td>\n",
       "      <td>0.0</td>\n",
       "      <td>0.0</td>\n",
       "      <td>0</td>\n",
       "    </tr>\n",
       "    <tr>\n",
       "      <th>...</th>\n",
       "      <td>...</td>\n",
       "      <td>...</td>\n",
       "      <td>...</td>\n",
       "      <td>...</td>\n",
       "      <td>...</td>\n",
       "      <td>...</td>\n",
       "      <td>...</td>\n",
       "      <td>...</td>\n",
       "      <td>...</td>\n",
       "    </tr>\n",
       "    <tr>\n",
       "      <th>519</th>\n",
       "      <td>1880836</td>\n",
       "      <td>retrieval</td>\n",
       "      <td>0</td>\n",
       "      <td>1880836.0</td>\n",
       "      <td>0.289429</td>\n",
       "      <td>0.176934</td>\n",
       "      <td>0.0</td>\n",
       "      <td>0.0</td>\n",
       "      <td>31</td>\n",
       "    </tr>\n",
       "    <tr>\n",
       "      <th>520</th>\n",
       "      <td>1881855</td>\n",
       "      <td>collision</td>\n",
       "      <td>1</td>\n",
       "      <td>1881855.0</td>\n",
       "      <td>0.281596</td>\n",
       "      <td>0.183967</td>\n",
       "      <td>NaN</td>\n",
       "      <td>NaN</td>\n",
       "      <td>31</td>\n",
       "    </tr>\n",
       "    <tr>\n",
       "      <th>521</th>\n",
       "      <td>1887515</td>\n",
       "      <td>outcome_type</td>\n",
       "      <td>1</td>\n",
       "      <td>NaN</td>\n",
       "      <td>NaN</td>\n",
       "      <td>NaN</td>\n",
       "      <td>NaN</td>\n",
       "      <td>NaN</td>\n",
       "      <td>31</td>\n",
       "    </tr>\n",
       "    <tr>\n",
       "      <th>522</th>\n",
       "      <td>1887515</td>\n",
       "      <td>service_event_end</td>\n",
       "      <td>1</td>\n",
       "      <td>NaN</td>\n",
       "      <td>NaN</td>\n",
       "      <td>NaN</td>\n",
       "      <td>NaN</td>\n",
       "      <td>NaN</td>\n",
       "      <td>31</td>\n",
       "    </tr>\n",
       "    <tr>\n",
       "      <th>523</th>\n",
       "      <td>1887515</td>\n",
       "      <td>service_event_start</td>\n",
       "      <td>0</td>\n",
       "      <td>NaN</td>\n",
       "      <td>NaN</td>\n",
       "      <td>NaN</td>\n",
       "      <td>NaN</td>\n",
       "      <td>NaN</td>\n",
       "      <td>31</td>\n",
       "    </tr>\n",
       "  </tbody>\n",
       "</table>\n",
       "<p>524 rows × 9 columns</p>\n",
       "</div>"
      ],
      "text/plain": [
       "           t           event_type  obstacles_outcome  time_msec  rawdatax  \\\n",
       "0         20  service_event_start                  0       20.0  0.133907   \n",
       "1       1330            collision                  1     1330.0  0.133907   \n",
       "2       5145            collision                  1     5145.0  0.109353   \n",
       "3      14995            collision                  1    14995.0  0.319889   \n",
       "4      15320            collision                  1    15320.0  0.319663   \n",
       "..       ...                  ...                ...        ...       ...   \n",
       "519  1880836            retrieval                  0  1880836.0  0.289429   \n",
       "520  1881855            collision                  1  1881855.0  0.281596   \n",
       "521  1887515         outcome_type                  1        NaN       NaN   \n",
       "522  1887515    service_event_end                  1        NaN       NaN   \n",
       "523  1887515  service_event_start                  0        NaN       NaN   \n",
       "\n",
       "     rawdatay  rawdatatorqueleft  rawdatatorqueright  t_min  \n",
       "0   -0.000302                0.0                 0.0      0  \n",
       "1   -0.000302                NaN                 NaN      0  \n",
       "2    0.075373                0.0                 0.0      0  \n",
       "3    0.157482                0.0                 0.0      0  \n",
       "4    0.138054                0.0                 0.0      0  \n",
       "..        ...                ...                 ...    ...  \n",
       "519  0.176934                0.0                 0.0     31  \n",
       "520  0.183967                NaN                 NaN     31  \n",
       "521       NaN                NaN                 NaN     31  \n",
       "522       NaN                NaN                 NaN     31  \n",
       "523       NaN                NaN                 NaN     31  \n",
       "\n",
       "[524 rows x 9 columns]"
      ]
     },
     "execution_count": 18,
     "metadata": {},
     "output_type": "execute_result"
    }
   ],
   "source": [
    "list_of_mains[0]"
   ]
  },
  {
   "cell_type": "code",
   "execution_count": 19,
   "id": "f1d4551b",
   "metadata": {},
   "outputs": [],
   "source": [
    "## double check NaN beginning and end of df\n",
    "\n"
   ]
  },
  {
   "cell_type": "markdown",
   "id": "7e2e77cd",
   "metadata": {},
   "source": [
    "##### mean speed "
   ]
  },
  {
   "cell_type": "code",
   "execution_count": 20,
   "id": "00b91a75",
   "metadata": {},
   "outputs": [],
   "source": [
    "# mean speed\n",
    "list_svc = []\n",
    "mean_speed = []\n",
    "list_of_tot_svc = []\n",
    "\n",
    "for idx, main in enumerate(list_of_mains):\n",
    "    svc_event = main[main['event_type'].str.contains('service_event')]\n",
    "\n",
    "    # index pairs of service_event start/end\n",
    "    nr = 0\n",
    "    svc_event['sequence'] = 0\n",
    "    for index, event in enumerate(svc_event['event_type']):\n",
    "        if event == 'service_event_start':\n",
    "            svc_event['sequence'].iloc[index] = nr\n",
    "        else:\n",
    "            svc_event['sequence'].iloc[index] = nr\n",
    "            nr += 1  \n",
    "    \n",
    "    # group events based on svc_events\n",
    "    svc_event[['time_diff','x_diff','y_diff']]=svc_event.groupby('sequence')[['time_msec','rawdatax','rawdatay']].diff()\n",
    "    svc_event['step_size'] = np.sqrt(svc_event['x_diff']**2+svc_event['y_diff']**2)\n",
    "    svc_event['speed'] = (svc_event['step_size'])/(svc_event['time_diff']/1000)\n",
    "    svc_event.drop(columns=['rawdatatorqueleft','rawdatatorqueright'],inplace=True)\n",
    "    svc_event = svc_event.dropna()\n",
    "    list_svc.append(svc_event)\n",
    "    \n",
    "    # total number of customers served\n",
    "    list_of_tot_svc.append(int(list_of_reps[idx]['value'][6]))\n",
    "\n",
    "    mean_speed.append(statistics.mean(svc_event['speed']))"
   ]
  },
  {
   "cell_type": "code",
   "execution_count": 21,
   "id": "994266f1",
   "metadata": {},
   "outputs": [
    {
     "data": {
      "text/html": [
       "<div>\n",
       "<style scoped>\n",
       "    .dataframe tbody tr th:only-of-type {\n",
       "        vertical-align: middle;\n",
       "    }\n",
       "\n",
       "    .dataframe tbody tr th {\n",
       "        vertical-align: top;\n",
       "    }\n",
       "\n",
       "    .dataframe thead th {\n",
       "        text-align: right;\n",
       "    }\n",
       "</style>\n",
       "<table border=\"1\" class=\"dataframe\">\n",
       "  <thead>\n",
       "    <tr style=\"text-align: right;\">\n",
       "      <th></th>\n",
       "      <th>t</th>\n",
       "      <th>event_type</th>\n",
       "      <th>obstacles_outcome</th>\n",
       "      <th>time_msec</th>\n",
       "      <th>rawdatax</th>\n",
       "      <th>rawdatay</th>\n",
       "      <th>t_min</th>\n",
       "      <th>sequence</th>\n",
       "      <th>time_diff</th>\n",
       "      <th>x_diff</th>\n",
       "      <th>y_diff</th>\n",
       "      <th>step_size</th>\n",
       "      <th>speed</th>\n",
       "    </tr>\n",
       "  </thead>\n",
       "  <tbody>\n",
       "    <tr>\n",
       "      <th>8</th>\n",
       "      <td>25750</td>\n",
       "      <td>service_event_end</td>\n",
       "      <td>1</td>\n",
       "      <td>25750.0</td>\n",
       "      <td>0.287946</td>\n",
       "      <td>0.218630</td>\n",
       "      <td>0</td>\n",
       "      <td>0</td>\n",
       "      <td>25730.0</td>\n",
       "      <td>0.154039</td>\n",
       "      <td>0.218931</td>\n",
       "      <td>0.267692</td>\n",
       "      <td>0.010404</td>\n",
       "    </tr>\n",
       "    <tr>\n",
       "      <th>17</th>\n",
       "      <td>46240</td>\n",
       "      <td>service_event_end</td>\n",
       "      <td>1</td>\n",
       "      <td>46240.0</td>\n",
       "      <td>0.149254</td>\n",
       "      <td>0.214693</td>\n",
       "      <td>0</td>\n",
       "      <td>1</td>\n",
       "      <td>20490.0</td>\n",
       "      <td>-0.138692</td>\n",
       "      <td>-0.003936</td>\n",
       "      <td>0.138748</td>\n",
       "      <td>0.006771</td>\n",
       "    </tr>\n",
       "    <tr>\n",
       "      <th>24</th>\n",
       "      <td>76740</td>\n",
       "      <td>service_event_end</td>\n",
       "      <td>1</td>\n",
       "      <td>76740.0</td>\n",
       "      <td>0.222802</td>\n",
       "      <td>0.213416</td>\n",
       "      <td>1</td>\n",
       "      <td>2</td>\n",
       "      <td>30500.0</td>\n",
       "      <td>0.073548</td>\n",
       "      <td>-0.001277</td>\n",
       "      <td>0.073559</td>\n",
       "      <td>0.002412</td>\n",
       "    </tr>\n",
       "    <tr>\n",
       "      <th>31</th>\n",
       "      <td>103680</td>\n",
       "      <td>service_event_end</td>\n",
       "      <td>1</td>\n",
       "      <td>103680.0</td>\n",
       "      <td>0.287393</td>\n",
       "      <td>0.215111</td>\n",
       "      <td>1</td>\n",
       "      <td>3</td>\n",
       "      <td>26940.0</td>\n",
       "      <td>0.064591</td>\n",
       "      <td>0.001695</td>\n",
       "      <td>0.064613</td>\n",
       "      <td>0.002398</td>\n",
       "    </tr>\n",
       "    <tr>\n",
       "      <th>35</th>\n",
       "      <td>120745</td>\n",
       "      <td>service_event_end</td>\n",
       "      <td>1</td>\n",
       "      <td>120745.0</td>\n",
       "      <td>0.145896</td>\n",
       "      <td>0.214508</td>\n",
       "      <td>2</td>\n",
       "      <td>4</td>\n",
       "      <td>17065.0</td>\n",
       "      <td>-0.141497</td>\n",
       "      <td>-0.000603</td>\n",
       "      <td>0.141499</td>\n",
       "      <td>0.008292</td>\n",
       "    </tr>\n",
       "    <tr>\n",
       "      <th>...</th>\n",
       "      <td>...</td>\n",
       "      <td>...</td>\n",
       "      <td>...</td>\n",
       "      <td>...</td>\n",
       "      <td>...</td>\n",
       "      <td>...</td>\n",
       "      <td>...</td>\n",
       "      <td>...</td>\n",
       "      <td>...</td>\n",
       "      <td>...</td>\n",
       "      <td>...</td>\n",
       "      <td>...</td>\n",
       "      <td>...</td>\n",
       "    </tr>\n",
       "    <tr>\n",
       "      <th>497</th>\n",
       "      <td>1836880</td>\n",
       "      <td>service_event_end</td>\n",
       "      <td>1</td>\n",
       "      <td>1836880.0</td>\n",
       "      <td>0.265201</td>\n",
       "      <td>0.214533</td>\n",
       "      <td>30</td>\n",
       "      <td>81</td>\n",
       "      <td>8065.0</td>\n",
       "      <td>0.054076</td>\n",
       "      <td>-0.000060</td>\n",
       "      <td>0.054076</td>\n",
       "      <td>0.006705</td>\n",
       "    </tr>\n",
       "    <tr>\n",
       "      <th>501</th>\n",
       "      <td>1847080</td>\n",
       "      <td>service_event_end</td>\n",
       "      <td>1</td>\n",
       "      <td>1847080.0</td>\n",
       "      <td>0.072481</td>\n",
       "      <td>0.213419</td>\n",
       "      <td>30</td>\n",
       "      <td>82</td>\n",
       "      <td>10200.0</td>\n",
       "      <td>-0.192719</td>\n",
       "      <td>-0.001114</td>\n",
       "      <td>0.192723</td>\n",
       "      <td>0.018894</td>\n",
       "    </tr>\n",
       "    <tr>\n",
       "      <th>507</th>\n",
       "      <td>1858425</td>\n",
       "      <td>service_event_end</td>\n",
       "      <td>1</td>\n",
       "      <td>1858425.0</td>\n",
       "      <td>0.137526</td>\n",
       "      <td>0.214286</td>\n",
       "      <td>30</td>\n",
       "      <td>83</td>\n",
       "      <td>11345.0</td>\n",
       "      <td>0.065045</td>\n",
       "      <td>0.000867</td>\n",
       "      <td>0.065051</td>\n",
       "      <td>0.005734</td>\n",
       "    </tr>\n",
       "    <tr>\n",
       "      <th>512</th>\n",
       "      <td>1866650</td>\n",
       "      <td>service_event_end</td>\n",
       "      <td>1</td>\n",
       "      <td>1866650.0</td>\n",
       "      <td>0.212740</td>\n",
       "      <td>0.213989</td>\n",
       "      <td>31</td>\n",
       "      <td>84</td>\n",
       "      <td>8225.0</td>\n",
       "      <td>0.075214</td>\n",
       "      <td>-0.000298</td>\n",
       "      <td>0.075214</td>\n",
       "      <td>0.009145</td>\n",
       "    </tr>\n",
       "    <tr>\n",
       "      <th>517</th>\n",
       "      <td>1876135</td>\n",
       "      <td>service_event_end</td>\n",
       "      <td>1</td>\n",
       "      <td>1876135.0</td>\n",
       "      <td>0.269963</td>\n",
       "      <td>0.214561</td>\n",
       "      <td>31</td>\n",
       "      <td>85</td>\n",
       "      <td>9485.0</td>\n",
       "      <td>0.057222</td>\n",
       "      <td>0.000572</td>\n",
       "      <td>0.057225</td>\n",
       "      <td>0.006033</td>\n",
       "    </tr>\n",
       "  </tbody>\n",
       "</table>\n",
       "<p>86 rows × 13 columns</p>\n",
       "</div>"
      ],
      "text/plain": [
       "           t         event_type  obstacles_outcome  time_msec  rawdatax  \\\n",
       "8      25750  service_event_end                  1    25750.0  0.287946   \n",
       "17     46240  service_event_end                  1    46240.0  0.149254   \n",
       "24     76740  service_event_end                  1    76740.0  0.222802   \n",
       "31    103680  service_event_end                  1   103680.0  0.287393   \n",
       "35    120745  service_event_end                  1   120745.0  0.145896   \n",
       "..       ...                ...                ...        ...       ...   \n",
       "497  1836880  service_event_end                  1  1836880.0  0.265201   \n",
       "501  1847080  service_event_end                  1  1847080.0  0.072481   \n",
       "507  1858425  service_event_end                  1  1858425.0  0.137526   \n",
       "512  1866650  service_event_end                  1  1866650.0  0.212740   \n",
       "517  1876135  service_event_end                  1  1876135.0  0.269963   \n",
       "\n",
       "     rawdatay  t_min  sequence  time_diff    x_diff    y_diff  step_size  \\\n",
       "8    0.218630      0         0    25730.0  0.154039  0.218931   0.267692   \n",
       "17   0.214693      0         1    20490.0 -0.138692 -0.003936   0.138748   \n",
       "24   0.213416      1         2    30500.0  0.073548 -0.001277   0.073559   \n",
       "31   0.215111      1         3    26940.0  0.064591  0.001695   0.064613   \n",
       "35   0.214508      2         4    17065.0 -0.141497 -0.000603   0.141499   \n",
       "..        ...    ...       ...        ...       ...       ...        ...   \n",
       "497  0.214533     30        81     8065.0  0.054076 -0.000060   0.054076   \n",
       "501  0.213419     30        82    10200.0 -0.192719 -0.001114   0.192723   \n",
       "507  0.214286     30        83    11345.0  0.065045  0.000867   0.065051   \n",
       "512  0.213989     31        84     8225.0  0.075214 -0.000298   0.075214   \n",
       "517  0.214561     31        85     9485.0  0.057222  0.000572   0.057225   \n",
       "\n",
       "        speed  \n",
       "8    0.010404  \n",
       "17   0.006771  \n",
       "24   0.002412  \n",
       "31   0.002398  \n",
       "35   0.008292  \n",
       "..        ...  \n",
       "497  0.006705  \n",
       "501  0.018894  \n",
       "507  0.005734  \n",
       "512  0.009145  \n",
       "517  0.006033  \n",
       "\n",
       "[86 rows x 13 columns]"
      ]
     },
     "execution_count": 21,
     "metadata": {},
     "output_type": "execute_result"
    }
   ],
   "source": [
    "# sample of one df\n",
    "list_svc[0]"
   ]
  },
  {
   "cell_type": "code",
   "execution_count": 22,
   "id": "2b605091",
   "metadata": {},
   "outputs": [
    {
     "data": {
      "text/html": [
       "<div>\n",
       "<style scoped>\n",
       "    .dataframe tbody tr th:only-of-type {\n",
       "        vertical-align: middle;\n",
       "    }\n",
       "\n",
       "    .dataframe tbody tr th {\n",
       "        vertical-align: top;\n",
       "    }\n",
       "\n",
       "    .dataframe thead th {\n",
       "        text-align: right;\n",
       "    }\n",
       "</style>\n",
       "<table border=\"1\" class=\"dataframe\">\n",
       "  <thead>\n",
       "    <tr style=\"text-align: right;\">\n",
       "      <th></th>\n",
       "      <th>t</th>\n",
       "      <th>event_type</th>\n",
       "      <th>obstacles_outcome</th>\n",
       "    </tr>\n",
       "  </thead>\n",
       "  <tbody>\n",
       "    <tr>\n",
       "      <th>513</th>\n",
       "      <td>1866650</td>\n",
       "      <td>service_event_start</td>\n",
       "      <td>0</td>\n",
       "    </tr>\n",
       "    <tr>\n",
       "      <th>517</th>\n",
       "      <td>1876135</td>\n",
       "      <td>service_event_end</td>\n",
       "      <td>1</td>\n",
       "    </tr>\n",
       "    <tr>\n",
       "      <th>518</th>\n",
       "      <td>1876135</td>\n",
       "      <td>service_event_start</td>\n",
       "      <td>0</td>\n",
       "    </tr>\n",
       "    <tr>\n",
       "      <th>522</th>\n",
       "      <td>1887515</td>\n",
       "      <td>service_event_end</td>\n",
       "      <td>1</td>\n",
       "    </tr>\n",
       "    <tr>\n",
       "      <th>523</th>\n",
       "      <td>1887515</td>\n",
       "      <td>service_event_start</td>\n",
       "      <td>0</td>\n",
       "    </tr>\n",
       "  </tbody>\n",
       "</table>\n",
       "</div>"
      ],
      "text/plain": [
       "           t           event_type  obstacles_outcome\n",
       "513  1866650  service_event_start                  0\n",
       "517  1876135    service_event_end                  1\n",
       "518  1876135  service_event_start                  0\n",
       "522  1887515    service_event_end                  1\n",
       "523  1887515  service_event_start                  0"
      ]
     },
     "execution_count": 22,
     "metadata": {},
     "output_type": "execute_result"
    }
   ],
   "source": [
    "## quality check \n",
    "# no end for the last service_event_\n",
    "list_of_tsds[0][list_of_tsds[0]['event_type'].str.contains('service')].tail(5)"
   ]
  },
  {
   "cell_type": "code",
   "execution_count": 23,
   "id": "08909190",
   "metadata": {},
   "outputs": [
    {
     "data": {
      "text/plain": [
       "[0.005693599430578935,\n",
       " 0.010346748816988546,\n",
       " 0.008458605998819535,\n",
       " 0.008165274297757768,\n",
       " 0.007344572617415857,\n",
       " 0.010713381377457358,\n",
       " 0.010841142836542512,\n",
       " 0.009560382352561769]"
      ]
     },
     "execution_count": 23,
     "metadata": {},
     "output_type": "execute_result"
    }
   ],
   "source": [
    "# result mean_speed of all trials\n",
    "mean_speed"
   ]
  },
  {
   "cell_type": "code",
   "execution_count": 24,
   "id": "ad70a4c4",
   "metadata": {},
   "outputs": [
    {
     "data": {
      "image/png": "[encoded data removed]",
      "text/plain": [
       "<Figure size 432x288 with 1 Axes>"
      ]
     },
     "metadata": {
      "needs_background": "light"
     },
     "output_type": "display_data"
    },
    {
     "data": {
      "image/png": "[encoded data removed]",
      "text/plain": [
       "<Figure size 432x288 with 1 Axes>"
      ]
     },
     "metadata": {
      "needs_background": "light"
     },
     "output_type": "display_data"
    },
    {
     "data": {
      "image/png": "[encoded data removed]",
      "text/plain": [
       "<Figure size 432x288 with 1 Axes>"
      ]
     },
     "metadata": {
      "needs_background": "light"
     },
     "output_type": "display_data"
    },
    {
     "data": {
      "image/png": "[encoded data removed]",
      "text/plain": [
       "<Figure size 432x288 with 1 Axes>"
      ]
     },
     "metadata": {
      "needs_background": "light"
     },
     "output_type": "display_data"
    },
    {
     "data": {
      "image/png": "[encoded data removed]",
      "text/plain": [
       "<Figure size 432x288 with 1 Axes>"
      ]
     },
     "metadata": {
      "needs_background": "light"
     },
     "output_type": "display_data"
    },
    {
     "data": {
      "image/png": "[encoded data removed]",
      "text/plain": [
       "<Figure size 432x288 with 1 Axes>"
      ]
     },
     "metadata": {
      "needs_background": "light"
     },
     "output_type": "display_data"
    },
    {
     "data": {
      "image/png": "[encoded data removed]",
      "text/plain": [
       "<Figure size 432x288 with 1 Axes>"
      ]
     },
     "metadata": {
      "needs_background": "light"
     },
     "output_type": "display_data"
    },
    {
     "data": {
      "image/png": "[encoded data removed]",
      "text/plain": [
       "<Figure size 432x288 with 1 Axes>"
      ]
     },
     "metadata": {
      "needs_background": "light"
     },
     "output_type": "display_data"
    }
   ],
   "source": [
    "# plot speed and mean_speed based on svc_event\n",
    "for index, svc_event in enumerate(list_svc):\n",
    "    fig, ax = plt.subplots()\n",
    "\n",
    "    ax.plot('sequence','speed',data=svc_event);\n",
    "    ax.axhline(y=mean_speed[index], color='r', linestyle='-')\n",
    "    \n",
    "    plt.legend(['speed','mean_speed'])\n",
    "    plt.xlabel('service event')\n",
    "    plt.ylabel('speed/ m/msec')\n",
    "    plt.ylim([0,0.040])\n",
    "    plt.title('speed during play'); "
   ]
  },
  {
   "cell_type": "markdown",
   "id": "509e4795",
   "metadata": {},
   "source": [
    "**how does the system determine a correction/rectification made?**\n"
   ]
  },
  {
   "cell_type": "markdown",
   "id": "9d377419",
   "metadata": {},
   "source": [
    "##### service event errors rate"
   ]
  },
  {
   "cell_type": "markdown",
   "id": "d46c345b",
   "metadata": {},
   "source": [
    " 1 (Correct item & correct person in sequence) \n",
    " <br> 2 (Correct item & wrong person in sequence)\n",
    " <br> 3 (Wrong item & wrong person in sequence)."
   ]
  },
  {
   "cell_type": "code",
   "execution_count": 25,
   "id": "08e5fdf9",
   "metadata": {},
   "outputs": [],
   "source": [
    "# error rate\n",
    "error_rate = []\n",
    "\n",
    "for index, (main, svc_event) in enumerate(zip(list_of_mains,list_svc)):\n",
    "    svc_error = main[main['event_type']=='service_event_end']['obstacles_outcome'].unique()\n",
    "    \n",
    "#     svc_event.reset_index(inplace=True)\n",
    "    total_svc = int(svc_event['sequence'].tail(1))\n",
    "    if 2 in svc_error:\n",
    "        svc_error_2 = svc_event[svc_event['obstacles_outcome']==2]['obstacles_outcome'].count()\n",
    "    else:\n",
    "        svc_error_2 = 0\n",
    "    if 3 in svc_error:\n",
    "        svc_error_3 = svc_event[svc_event['obstacles_outcome']==3]['obstacles_outcome'].count()\n",
    "    else:\n",
    "        svc_error_3 = 0\n",
    "        \n",
    "    error_rate.append((svc_error_2 + svc_error_3)/list_of_tot_svc[index])\n"
   ]
  },
  {
   "cell_type": "code",
   "execution_count": 26,
   "id": "b62b9d65",
   "metadata": {},
   "outputs": [
    {
     "data": {
      "text/plain": [
       "[0.20238095238095238,\n",
       " 0.0,\n",
       " 0.013888888888888888,\n",
       " 0.0,\n",
       " 0.0,\n",
       " 0.006944444444444444,\n",
       " 0.0,\n",
       " 0.0]"
      ]
     },
     "execution_count": 26,
     "metadata": {},
     "output_type": "execute_result"
    }
   ],
   "source": [
    "# result error_rate based on svc_event\n",
    "error_rate"
   ]
  },
  {
   "cell_type": "markdown",
   "id": "2ffa6b99",
   "metadata": {},
   "source": [
    "##### collision rate"
   ]
  },
  {
   "cell_type": "markdown",
   "id": "45c7eeea",
   "metadata": {},
   "source": [
    "collisions=1 if shelf\n",
    "<br> collisions=2 if object"
   ]
  },
  {
   "cell_type": "code",
   "execution_count": 27,
   "id": "9115acec",
   "metadata": {},
   "outputs": [],
   "source": [
    "# collision rate\n",
    "collision_rate = []\n",
    "\n",
    "for index, main in enumerate(list_of_mains):\n",
    "    coll_1 = main[(main['event_type']=='collision') & (main['obstacles_outcome']==1)]['obstacles_outcome'].count()\n",
    "    coll_2 = main[(main['event_type']=='collision') & (main['obstacles_outcome']==2)]['obstacles_outcome'].count()\n",
    "    collision_rate.append((coll_1 + coll_2)/list_of_tot_svc[index])\n",
    "    "
   ]
  },
  {
   "cell_type": "code",
   "execution_count": 28,
   "id": "b66e2a38",
   "metadata": {},
   "outputs": [
    {
     "data": {
      "text/plain": [
       "[2.0357142857142856,\n",
       " 1.5902777777777777,\n",
       " 1.5902777777777777,\n",
       " 1.5454545454545454,\n",
       " 2.0303030303030303,\n",
       " 1.4027777777777777,\n",
       " 1.3194444444444444,\n",
       " 1.5172413793103448]"
      ]
     },
     "execution_count": 28,
     "metadata": {},
     "output_type": "execute_result"
    }
   ],
   "source": [
    "collision_rate"
   ]
  },
  {
   "cell_type": "markdown",
   "id": "93f4fbef",
   "metadata": {},
   "source": [
    "#### rolling"
   ]
  },
  {
   "cell_type": "markdown",
   "id": "08121955",
   "metadata": {},
   "source": [
    "##### mean speed (rolling)"
   ]
  },
  {
   "cell_type": "code",
   "execution_count": null,
   "id": "1a83d311",
   "metadata": {},
   "outputs": [],
   "source": [
    "# define window of interest\n",
    "# this applies to all parameters\n",
    "window = int(input(\"window: \"))"
   ]
  },
  {
   "cell_type": "code",
   "execution_count": null,
   "id": "eb2b3369",
   "metadata": {},
   "outputs": [],
   "source": [
    "list_speed_roll = []\n",
    "\n",
    "for index, svc_event in enumerate(list_svc):\n",
    "    svc_event.set_index('sequence')\n",
    "    svc_event['speed_roll']=svc_event['speed'].rolling(window).mean()\n",
    "    list_speed_roll.append(svc_event['speed_roll'])\n",
    "    \n",
    "    #plot moving average based on window\n",
    "    fig, ax = plt.subplots()\n",
    "    ax.plot('sequence','speed_roll',data=svc_event);\n",
    "    plt.xlabel('svc_event')\n",
    "    plt.ylabel('speed/ m/msec')\n",
    "    plt.title(f'moving average ({window} svc events) of speed during play'); "
   ]
  },
  {
   "cell_type": "markdown",
   "id": "cc32213c",
   "metadata": {},
   "source": [
    "##### svc event errors rate (rolling)"
   ]
  },
  {
   "cell_type": "code",
   "execution_count": null,
   "id": "df82babf",
   "metadata": {},
   "outputs": [],
   "source": [
    "list_error_rate = []\n",
    "\n",
    "for index, svc_event in enumerate(list_svc):\n",
    "    svc_event['error_rate'] = np.nan\n",
    "    \n",
    "    for i in range(0,(len(svc_event)-window+1)):\n",
    "        svc_error = svc_event[svc_event['event_type']=='service_event_end']['obstacles_outcome'][i:i+window].unique()\n",
    "        if 2 in svc_error:\n",
    "            svc_error_2 = svc_event[i:i+window][svc_event['obstacles_outcome']==2]['obstacles_outcome'].count()\n",
    "        else:\n",
    "            svc_error_2 = 0\n",
    "        if 3 in svc_error:\n",
    "            svc_error_3 = svc_event[i:i+window][svc_event['obstacles_outcome']==3]['obstacles_outcome'].count()\n",
    "        else:\n",
    "            svc_error_3 = 0\n",
    "        svc_event['error_rate'][i+window] = (svc_error_2 + svc_error_3)/window\n",
    "        list_error_rate.append((svc_error_2 + svc_error_3)/window)\n",
    "    \n",
    "    #plot moving average based on window\n",
    "    fig, ax = plt.subplots()\n",
    "    ax.plot('error_rate',data=svc_event);\n",
    "    plt.xlabel('service event')\n",
    "    plt.ylabel('error rate')\n",
    "    plt.title(f'moving average ({window} svc events) of error rate during play'); \n"
   ]
  },
  {
   "cell_type": "markdown",
   "id": "6b6882a7",
   "metadata": {},
   "source": [
    "##### total collision (svc, rolling)"
   ]
  },
  {
   "cell_type": "code",
   "execution_count": null,
   "id": "5d5d6641",
   "metadata": {},
   "outputs": [],
   "source": [
    "list_tot_coll = []\n",
    "\n",
    "for main in list_of_mains:\n",
    "    collision = main[main['event_type'].str.contains('collision|service')]\n",
    "    \n",
    "    # index pairs of service_event start/end\n",
    "    nr = 0\n",
    "    collision['sequence'] = 0\n",
    "    for index, event in enumerate(collision['event_type']):\n",
    "        if event == 'service_event_start':\n",
    "            collision['sequence'].iloc[index] = nr\n",
    "        elif event == 'collision':\n",
    "            collision['sequence'].iloc[index] = nr\n",
    "        elif event == 'service_event_end':\n",
    "            collision['sequence'].iloc[index] = nr\n",
    "            nr += 1 \n",
    "            \n",
    "    # collision 1\n",
    "    coll_1 = collision[(collision['event_type']=='collision') & (collision['obstacles_outcome']==1)].groupby('sequence').count()[['obstacles_outcome']]\n",
    "    coll_1 = coll_1.rename(columns={'obstacles_outcome':'coll_1'})\n",
    "\n",
    "    # collision 2\n",
    "    coll_2 = collision[(collision['event_type']=='collision') & (collision['obstacles_outcome']==2)].groupby('sequence').count()[['obstacles_outcome']]\n",
    "    coll_2 = coll_2.rename(columns={'obstacles_outcome':'coll_2'})\n",
    "\n",
    "    # total collisions\n",
    "    total_coll = pd.merge(coll_1, coll_2, how='left', on='sequence').replace(np.nan,0)\n",
    "    total_coll = total_coll.reindex(range(0,total_coll.index.astype(int)[-1]+1), fill_value=0)\n",
    "    total_coll['total_coll'] = total_coll['coll_1'] + total_coll['coll_2']\n",
    "    \n",
    "    # mean total obstacles\n",
    "    mean_total_obstacles = statistics.mean(total_coll['total_coll'])\n",
    "    \n",
    "    #\n",
    "    fig, ax1 = plt.subplots()\n",
    "    ax1.plot('total_coll',data=total_coll);\n",
    "    ax1.axhline(y=mean_total_obstacles, color='r', linestyle='-')\n",
    "    plt.legend(['total collision','mean collision'])\n",
    "    plt.xlabel('service event')\n",
    "    plt.ylabel('total collision')\n",
    "    plt.title('total collision during play'); \n",
    "    \n",
    "    # total collision (rolling)\n",
    "    total_coll['total_coll7']=total_coll['total_coll'].rolling(window).mean()\n",
    "    list_tot_coll.append(total_coll['total_coll7'])\n",
    "    \n",
    "    #plot moving average based on window\n",
    "    fig, ax2 = plt.subplots()\n",
    "    ax2.plot('total_coll7',data=total_coll);\n",
    "    plt.xlabel('service event')\n",
    "    plt.ylabel('collision rate')\n",
    "    plt.title(f'moving average ({window} svc events) of total collision during play'); "
   ]
  },
  {
   "cell_type": "markdown",
   "id": "65fb49e3",
   "metadata": {},
   "source": [
    "### plot summary of all trials"
   ]
  },
  {
   "cell_type": "code",
   "execution_count": null,
   "id": "9ffaae8c",
   "metadata": {},
   "outputs": [],
   "source": [
    "progress = pd.DataFrame({'mean_speed': mean_speed, \n",
    "                        'error_rate': error_rate, \n",
    "                        'collision_rate': collision_rate})\n"
   ]
  },
  {
   "cell_type": "code",
   "execution_count": null,
   "id": "6f280e16",
   "metadata": {},
   "outputs": [],
   "source": [
    "progress"
   ]
  },
  {
   "cell_type": "code",
   "execution_count": null,
   "id": "a6e49b19",
   "metadata": {},
   "outputs": [],
   "source": [
    "# plot mean_speed of all trials\n",
    "plt.bar(progress.index,height=progress['mean_speed']);\n",
    "plt.xlabel('trial')\n",
    "plt.ylabel('mean speed');\n",
    "plt.title('mean speed by trial');"
   ]
  },
  {
   "cell_type": "code",
   "execution_count": null,
   "id": "d6e48431",
   "metadata": {},
   "outputs": [],
   "source": [
    "# plot error_rate of all trials\n",
    "plt.bar(progress.index,height=progress['error_rate']);\n",
    "plt.xlabel('trial')\n",
    "plt.ylabel('error rate');\n",
    "plt.title('service error rate by trial');"
   ]
  },
  {
   "cell_type": "code",
   "execution_count": null,
   "id": "36969f3e",
   "metadata": {},
   "outputs": [],
   "source": [
    "# plot collisions of all trials\n",
    "plt.bar(progress.index,height=progress['collision_rate']);\n",
    "plt.xlabel('trial')\n",
    "plt.ylabel('collision rate');\n",
    "plt.title('collision rate by trial');"
   ]
  }
 ],
 "metadata": {
  "kernelspec": {
   "display_name": "Python 3",
   "language": "python",
   "name": "python3"
  },
  "language_info": {
   "codemirror_mode": {
    "name": "ipython",
    "version": 3
   },
   "file_extension": ".py",
   "mimetype": "text/x-python",
   "name": "python",
   "nbconvert_exporter": "python",
   "pygments_lexer": "ipython3",
   "version": "3.8.8"
  },
  "toc": {
   "base_numbering": 1,
   "nav_menu": {},
   "number_sections": true,
   "sideBar": true,
   "skip_h1_title": false,
   "title_cell": "Table of Contents",
   "title_sidebar": "Contents",
   "toc_cell": false,
   "toc_position": {
    "height": "calc(100% - 180px)",
    "left": "10px",
    "top": "150px",
    "width": "304px"
   },
   "toc_section_display": true,
   "toc_window_display": true
  }
 },
 "nbformat": 4,
 "nbformat_minor": 5
}
