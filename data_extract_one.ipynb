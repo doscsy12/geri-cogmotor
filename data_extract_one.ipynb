{
 "cells": [
  {
   "cell_type": "markdown",
   "id": "0d048bec",
   "metadata": {},
   "source": [
    "## ARISE-GERI data analysis\n"
   ]
  },
  {
   "cell_type": "markdown",
   "id": "4b2071a0",
   "metadata": {},
   "source": [
    "*import libraries*"
   ]
  },
  {
   "cell_type": "code",
   "execution_count": 1,
   "id": "9c23cb56",
   "metadata": {},
   "outputs": [],
   "source": [
    "import pandas as pd\n",
    "import numpy as np\n",
    "import seaborn as sns\n",
    "import matplotlib.pyplot as plt\n",
    "%matplotlib inline\n",
    "import datetime \n",
    "from scipy import interpolate\n",
    "import statistics\n"
   ]
  },
  {
   "cell_type": "code",
   "execution_count": 2,
   "id": "062ba5d5",
   "metadata": {},
   "outputs": [],
   "source": [
    "import warnings\n",
    "warnings.filterwarnings(\"ignore\")"
   ]
  },
  {
   "cell_type": "code",
   "execution_count": 3,
   "id": "07d87986",
   "metadata": {},
   "outputs": [],
   "source": [
    "pd.options.display.max_rows = 50"
   ]
  },
  {
   "cell_type": "markdown",
   "id": "5185625f",
   "metadata": {},
   "source": [
    "### Data"
   ]
  },
  {
   "cell_type": "markdown",
   "id": "128ebacb",
   "metadata": {},
   "source": [
    "insert patient and trial of interest"
   ]
  },
  {
   "cell_type": "code",
   "execution_count": 4,
   "id": "f377aaff",
   "metadata": {},
   "outputs": [],
   "source": [
    "patient_nr = 'P12'\n",
    "filename = 'B_p12_trial_8_211124_144902'"
   ]
  },
  {
   "cell_type": "markdown",
   "id": "169d7dca",
   "metadata": {},
   "source": [
    "**H-MAN sensor data (FILE_ID.dat)**"
   ]
  },
  {
   "cell_type": "markdown",
   "id": "6de28481",
   "metadata": {},
   "source": [
    "files are saved accordingly ...../data/ARISE_GERI/P12/(filename)"
   ]
  },
  {
   "cell_type": "code",
   "execution_count": 5,
   "id": "60ebe339",
   "metadata": {},
   "outputs": [
    {
     "data": {
      "text/html": [
       "<div>\n",
       "<style scoped>\n",
       "    .dataframe tbody tr th:only-of-type {\n",
       "        vertical-align: middle;\n",
       "    }\n",
       "\n",
       "    .dataframe tbody tr th {\n",
       "        vertical-align: top;\n",
       "    }\n",
       "\n",
       "    .dataframe thead th {\n",
       "        text-align: right;\n",
       "    }\n",
       "</style>\n",
       "<table border=\"1\" class=\"dataframe\">\n",
       "  <thead>\n",
       "    <tr style=\"text-align: right;\">\n",
       "      <th></th>\n",
       "      <th>Time_msec</th>\n",
       "      <th>RawDataX</th>\n",
       "      <th>RawDataY</th>\n",
       "      <th>RawDataTorqueLeft</th>\n",
       "      <th>RawDataTorqueRight</th>\n",
       "    </tr>\n",
       "  </thead>\n",
       "  <tbody>\n",
       "    <tr>\n",
       "      <th>0</th>\n",
       "      <td>1</td>\n",
       "      <td>0.171179</td>\n",
       "      <td>0.210688</td>\n",
       "      <td>0.000000</td>\n",
       "      <td>0.000000</td>\n",
       "    </tr>\n",
       "    <tr>\n",
       "      <th>1</th>\n",
       "      <td>2</td>\n",
       "      <td>0.171179</td>\n",
       "      <td>0.210688</td>\n",
       "      <td>0.000000</td>\n",
       "      <td>0.000000</td>\n",
       "    </tr>\n",
       "    <tr>\n",
       "      <th>2</th>\n",
       "      <td>3</td>\n",
       "      <td>0.171179</td>\n",
       "      <td>0.210688</td>\n",
       "      <td>0.000000</td>\n",
       "      <td>0.000000</td>\n",
       "    </tr>\n",
       "    <tr>\n",
       "      <th>3</th>\n",
       "      <td>4</td>\n",
       "      <td>0.171179</td>\n",
       "      <td>0.210688</td>\n",
       "      <td>0.000000</td>\n",
       "      <td>0.000000</td>\n",
       "    </tr>\n",
       "    <tr>\n",
       "      <th>4</th>\n",
       "      <td>5</td>\n",
       "      <td>0.171179</td>\n",
       "      <td>0.210688</td>\n",
       "      <td>0.000000</td>\n",
       "      <td>0.000000</td>\n",
       "    </tr>\n",
       "    <tr>\n",
       "      <th>...</th>\n",
       "      <td>...</td>\n",
       "      <td>...</td>\n",
       "      <td>...</td>\n",
       "      <td>...</td>\n",
       "      <td>...</td>\n",
       "    </tr>\n",
       "    <tr>\n",
       "      <th>710602</th>\n",
       "      <td>1517306</td>\n",
       "      <td>0.145016</td>\n",
       "      <td>0.214483</td>\n",
       "      <td>0.004852</td>\n",
       "      <td>0.344329</td>\n",
       "    </tr>\n",
       "    <tr>\n",
       "      <th>710603</th>\n",
       "      <td>1517307</td>\n",
       "      <td>0.145041</td>\n",
       "      <td>0.214558</td>\n",
       "      <td>-0.004846</td>\n",
       "      <td>0.354030</td>\n",
       "    </tr>\n",
       "    <tr>\n",
       "      <th>710604</th>\n",
       "      <td>1517308</td>\n",
       "      <td>0.145041</td>\n",
       "      <td>0.214558</td>\n",
       "      <td>0.000000</td>\n",
       "      <td>0.349183</td>\n",
       "    </tr>\n",
       "    <tr>\n",
       "      <th>710605</th>\n",
       "      <td>1517309</td>\n",
       "      <td>0.145016</td>\n",
       "      <td>0.214634</td>\n",
       "      <td>0.004849</td>\n",
       "      <td>0.363732</td>\n",
       "    </tr>\n",
       "    <tr>\n",
       "      <th>710606</th>\n",
       "      <td>1517310</td>\n",
       "      <td>0.145041</td>\n",
       "      <td>0.214659</td>\n",
       "      <td>0.000003</td>\n",
       "      <td>0.349181</td>\n",
       "    </tr>\n",
       "  </tbody>\n",
       "</table>\n",
       "<p>710607 rows × 5 columns</p>\n",
       "</div>"
      ],
      "text/plain": [
       "        Time_msec  RawDataX  RawDataY  RawDataTorqueLeft  RawDataTorqueRight\n",
       "0               1  0.171179  0.210688           0.000000            0.000000\n",
       "1               2  0.171179  0.210688           0.000000            0.000000\n",
       "2               3  0.171179  0.210688           0.000000            0.000000\n",
       "3               4  0.171179  0.210688           0.000000            0.000000\n",
       "4               5  0.171179  0.210688           0.000000            0.000000\n",
       "...           ...       ...       ...                ...                 ...\n",
       "710602    1517306  0.145016  0.214483           0.004852            0.344329\n",
       "710603    1517307  0.145041  0.214558          -0.004846            0.354030\n",
       "710604    1517308  0.145041  0.214558           0.000000            0.349183\n",
       "710605    1517309  0.145016  0.214634           0.004849            0.363732\n",
       "710606    1517310  0.145041  0.214659           0.000003            0.349181\n",
       "\n",
       "[710607 rows x 5 columns]"
      ]
     },
     "execution_count": 5,
     "metadata": {},
     "output_type": "execute_result"
    }
   ],
   "source": [
    "df = pd.read_csv('./data/ARISE_GERI/' + patient_nr + '/' + filename + '.dat', sep='\\t+', header=[1])\n",
    "df"
   ]
  },
  {
   "cell_type": "code",
   "execution_count": 6,
   "id": "72af310a",
   "metadata": {},
   "outputs": [],
   "source": [
    "df.columns = df.columns.str.lower()"
   ]
  },
  {
   "cell_type": "markdown",
   "id": "441df79c",
   "metadata": {},
   "source": [
    "**Time-stamped data (FILE_ID.tsd)**"
   ]
  },
  {
   "cell_type": "code",
   "execution_count": 7,
   "id": "55ebf828",
   "metadata": {},
   "outputs": [
    {
     "data": {
      "text/html": [
       "<div>\n",
       "<style scoped>\n",
       "    .dataframe tbody tr th:only-of-type {\n",
       "        vertical-align: middle;\n",
       "    }\n",
       "\n",
       "    .dataframe tbody tr th {\n",
       "        vertical-align: top;\n",
       "    }\n",
       "\n",
       "    .dataframe thead th {\n",
       "        text-align: right;\n",
       "    }\n",
       "</style>\n",
       "<table border=\"1\" class=\"dataframe\">\n",
       "  <thead>\n",
       "    <tr style=\"text-align: right;\">\n",
       "      <th></th>\n",
       "      <th>t</th>\n",
       "      <th>event_type</th>\n",
       "      <th>Obstacles/Outcome</th>\n",
       "    </tr>\n",
       "  </thead>\n",
       "  <tbody>\n",
       "    <tr>\n",
       "      <th>0</th>\n",
       "      <td>20</td>\n",
       "      <td>service_event_start</td>\n",
       "      <td>0</td>\n",
       "    </tr>\n",
       "    <tr>\n",
       "      <th>1</th>\n",
       "      <td>9560</td>\n",
       "      <td>retrieval</td>\n",
       "      <td>0</td>\n",
       "    </tr>\n",
       "    <tr>\n",
       "      <th>2</th>\n",
       "      <td>14475</td>\n",
       "      <td>outcome_type</td>\n",
       "      <td>1</td>\n",
       "    </tr>\n",
       "    <tr>\n",
       "      <th>3</th>\n",
       "      <td>14480</td>\n",
       "      <td>service_event_end</td>\n",
       "      <td>1</td>\n",
       "    </tr>\n",
       "    <tr>\n",
       "      <th>4</th>\n",
       "      <td>14480</td>\n",
       "      <td>service_event_start</td>\n",
       "      <td>0</td>\n",
       "    </tr>\n",
       "    <tr>\n",
       "      <th>...</th>\n",
       "      <td>...</td>\n",
       "      <td>...</td>\n",
       "      <td>...</td>\n",
       "    </tr>\n",
       "    <tr>\n",
       "      <th>621</th>\n",
       "      <td>1509580</td>\n",
       "      <td>retrieval</td>\n",
       "      <td>0</td>\n",
       "    </tr>\n",
       "    <tr>\n",
       "      <th>622</th>\n",
       "      <td>1511430</td>\n",
       "      <td>collision</td>\n",
       "      <td>2</td>\n",
       "    </tr>\n",
       "    <tr>\n",
       "      <th>623</th>\n",
       "      <td>1517320</td>\n",
       "      <td>outcome_type</td>\n",
       "      <td>1</td>\n",
       "    </tr>\n",
       "    <tr>\n",
       "      <th>624</th>\n",
       "      <td>1517325</td>\n",
       "      <td>service_event_end</td>\n",
       "      <td>1</td>\n",
       "    </tr>\n",
       "    <tr>\n",
       "      <th>625</th>\n",
       "      <td>1517325</td>\n",
       "      <td>service_event_start</td>\n",
       "      <td>0</td>\n",
       "    </tr>\n",
       "  </tbody>\n",
       "</table>\n",
       "<p>626 rows × 3 columns</p>\n",
       "</div>"
      ],
      "text/plain": [
       "         t            event_type      Obstacles/Outcome\n",
       "0         20  service_event_start                     0\n",
       "1       9560            retrieval                     0\n",
       "2      14475         outcome_type                     1\n",
       "3      14480    service_event_end                     1\n",
       "4      14480  service_event_start                     0\n",
       "..       ...                  ...                   ...\n",
       "621  1509580            retrieval                     0\n",
       "622  1511430            collision                     2\n",
       "623  1517320         outcome_type                     1\n",
       "624  1517325    service_event_end                     1\n",
       "625  1517325  service_event_start                     0\n",
       "\n",
       "[626 rows x 3 columns]"
      ]
     },
     "execution_count": 7,
     "metadata": {},
     "output_type": "execute_result"
    }
   ],
   "source": [
    "tsd = pd.read_csv('./data/ARISE_GERI/' + patient_nr + '/' + filename + '.tsd', sep='\\t+', header=[1])\n",
    "tsd"
   ]
  },
  {
   "cell_type": "code",
   "execution_count": 8,
   "id": "b36f98d8",
   "metadata": {},
   "outputs": [],
   "source": [
    "tsd.columns = tsd.columns.str.replace(' ','')\n",
    "tsd.columns = tsd.columns.str.replace('/','_')\n",
    "tsd.columns = tsd.columns.str.lower() "
   ]
  },
  {
   "cell_type": "code",
   "execution_count": 9,
   "id": "8a50e20c",
   "metadata": {},
   "outputs": [
    {
     "data": {
      "text/plain": [
       "array(['service_event_start', 'retrieval', 'outcome_type',\n",
       "       'service_event_end', 'collision'], dtype=object)"
      ]
     },
     "execution_count": 9,
     "metadata": {},
     "output_type": "execute_result"
    }
   ],
   "source": [
    "tsd['event_type'].unique()"
   ]
  },
  {
   "cell_type": "code",
   "execution_count": 10,
   "id": "6c43f6bb",
   "metadata": {},
   "outputs": [
    {
     "data": {
      "text/plain": [
       "1    140\n",
       "2      4\n",
       "3      4\n",
       "Name: obstacles_outcome, dtype: int64"
      ]
     },
     "execution_count": 10,
     "metadata": {},
     "output_type": "execute_result"
    }
   ],
   "source": [
    "tsd[tsd['event_type']=='outcome_type']['obstacles_outcome'].value_counts()"
   ]
  },
  {
   "cell_type": "markdown",
   "id": "7fb3b217",
   "metadata": {},
   "source": [
    "what is 'outcome_type'? "
   ]
  },
  {
   "cell_type": "markdown",
   "id": "461dc4b4",
   "metadata": {},
   "source": [
    "**Game parameters (FILE_ID.par)**"
   ]
  },
  {
   "cell_type": "code",
   "execution_count": 11,
   "id": "783772bf",
   "metadata": {},
   "outputs": [],
   "source": [
    "par = pd.read_csv('./data/ARISE_GERI/' + patient_nr + '/' + filename + '.par', header=[0])"
   ]
  },
  {
   "cell_type": "code",
   "execution_count": 12,
   "id": "0b7bc3df",
   "metadata": {},
   "outputs": [],
   "source": [
    "# converting to one column \n",
    "par.set_axis(['gameparameters'], axis=1, inplace=True)\n",
    "par = par['gameparameters'].str.split(' ', expand=True)\n",
    "par = par.rename(columns={0: 'gameparameter'})\n",
    "par[3][0:7] = par[2][0:7]\n",
    "par[2][0:7] = ''\n",
    "cols1 = ['gameparameter', 1, 2]\n",
    "par['gameparameter'] = par[cols1].apply(lambda row: ''.join(row.values.astype(str)), axis=1)\n",
    "par.drop(columns=[1,2],inplace=True)\n",
    "cols2 = [3,4,5,6]\n",
    "par.iloc[7:10][3] = par[cols2].apply(lambda row: ','.join(row.values.astype(str)), axis=1)\n",
    "par.drop(columns=[4,5,6],inplace=True)\n",
    "par = par.rename(columns={3: 'value'})"
   ]
  },
  {
   "cell_type": "code",
   "execution_count": 13,
   "id": "ce942576",
   "metadata": {},
   "outputs": [
    {
     "data": {
      "text/html": [
       "<div>\n",
       "<style scoped>\n",
       "    .dataframe tbody tr th:only-of-type {\n",
       "        vertical-align: middle;\n",
       "    }\n",
       "\n",
       "    .dataframe tbody tr th {\n",
       "        vertical-align: top;\n",
       "    }\n",
       "\n",
       "    .dataframe thead th {\n",
       "        text-align: right;\n",
       "    }\n",
       "</style>\n",
       "<table border=\"1\" class=\"dataframe\">\n",
       "  <thead>\n",
       "    <tr style=\"text-align: right;\">\n",
       "      <th></th>\n",
       "      <th>gameparameter</th>\n",
       "      <th>value</th>\n",
       "    </tr>\n",
       "  </thead>\n",
       "  <tbody>\n",
       "    <tr>\n",
       "      <th>0</th>\n",
       "      <td>CustomerCount:</td>\n",
       "      <td>12</td>\n",
       "    </tr>\n",
       "    <tr>\n",
       "      <th>1</th>\n",
       "      <td>SessionTimeout:</td>\n",
       "      <td>60</td>\n",
       "    </tr>\n",
       "    <tr>\n",
       "      <th>2</th>\n",
       "      <td>FadeOutTime:</td>\n",
       "      <td>15</td>\n",
       "    </tr>\n",
       "    <tr>\n",
       "      <th>3</th>\n",
       "      <td>CustomerArrivalTime:</td>\n",
       "      <td>4</td>\n",
       "    </tr>\n",
       "    <tr>\n",
       "      <th>4</th>\n",
       "      <td>TotalBlocks:</td>\n",
       "      <td>12</td>\n",
       "    </tr>\n",
       "    <tr>\n",
       "      <th>5</th>\n",
       "      <td>CognitiveLevel:</td>\n",
       "      <td>1</td>\n",
       "    </tr>\n",
       "    <tr>\n",
       "      <th>6</th>\n",
       "      <td>HapticsLevel:</td>\n",
       "      <td>3</td>\n",
       "    </tr>\n",
       "    <tr>\n",
       "      <th>7</th>\n",
       "      <td>DampingMatrixA:</td>\n",
       "      <td>100,200,0,0</td>\n",
       "    </tr>\n",
       "    <tr>\n",
       "      <th>8</th>\n",
       "      <td>DampingMatrixB:</td>\n",
       "      <td>0,0,0,0</td>\n",
       "    </tr>\n",
       "    <tr>\n",
       "      <th>9</th>\n",
       "      <td>DampingMatrixC:</td>\n",
       "      <td>-30,-30,30,0</td>\n",
       "    </tr>\n",
       "  </tbody>\n",
       "</table>\n",
       "</div>"
      ],
      "text/plain": [
       "          gameparameter         value\n",
       "0        CustomerCount:            12\n",
       "1       SessionTimeout:            60\n",
       "2          FadeOutTime:            15\n",
       "3  CustomerArrivalTime:             4\n",
       "4          TotalBlocks:            12\n",
       "5       CognitiveLevel:             1\n",
       "6         HapticsLevel:             3\n",
       "7       DampingMatrixA:   100,200,0,0\n",
       "8       DampingMatrixB:       0,0,0,0\n",
       "9       DampingMatrixC:  -30,-30,30,0"
      ]
     },
     "execution_count": 13,
     "metadata": {},
     "output_type": "execute_result"
    }
   ],
   "source": [
    "par"
   ]
  },
  {
   "cell_type": "markdown",
   "id": "5b27f196",
   "metadata": {},
   "source": [
    "**Researcher reports (FILE_ID.rep)**"
   ]
  },
  {
   "cell_type": "code",
   "execution_count": 14,
   "id": "3fb5c706",
   "metadata": {},
   "outputs": [],
   "source": [
    "rep = pd.read_csv('./data/ARISE_GERI/' + patient_nr + '/' + filename + '.rep', header=[0])"
   ]
  },
  {
   "cell_type": "code",
   "execution_count": 15,
   "id": "5bcd4b0d",
   "metadata": {},
   "outputs": [],
   "source": [
    "# converting to one column \n",
    "rep.set_axis(['patientid'], axis=1, inplace=True)\n",
    "rep = rep['patientid'].str.split(' ', n=1, expand=True)\n",
    "rep = rep.rename(columns={0 : 'parameter', 1 : 'value'})\n",
    "rep['value'] = rep['value'].str.replace(' ','')"
   ]
  },
  {
   "cell_type": "code",
   "execution_count": 16,
   "id": "7bc0506f",
   "metadata": {},
   "outputs": [
    {
     "data": {
      "text/html": [
       "<div>\n",
       "<style scoped>\n",
       "    .dataframe tbody tr th:only-of-type {\n",
       "        vertical-align: middle;\n",
       "    }\n",
       "\n",
       "    .dataframe tbody tr th {\n",
       "        vertical-align: top;\n",
       "    }\n",
       "\n",
       "    .dataframe thead th {\n",
       "        text-align: right;\n",
       "    }\n",
       "</style>\n",
       "<table border=\"1\" class=\"dataframe\">\n",
       "  <thead>\n",
       "    <tr style=\"text-align: right;\">\n",
       "      <th></th>\n",
       "      <th>parameter</th>\n",
       "      <th>value</th>\n",
       "    </tr>\n",
       "  </thead>\n",
       "  <tbody>\n",
       "    <tr>\n",
       "      <th>0</th>\n",
       "      <td>Patient</td>\n",
       "      <td>ID:p12_trial</td>\n",
       "    </tr>\n",
       "    <tr>\n",
       "      <th>1</th>\n",
       "      <td>SessionTerminationCondition</td>\n",
       "      <td>Completed</td>\n",
       "    </tr>\n",
       "    <tr>\n",
       "      <th>2</th>\n",
       "      <td>SessionDuration</td>\n",
       "      <td>25.23</td>\n",
       "    </tr>\n",
       "    <tr>\n",
       "      <th>3</th>\n",
       "      <td>sumofOutcomesType1</td>\n",
       "      <td>140</td>\n",
       "    </tr>\n",
       "    <tr>\n",
       "      <th>4</th>\n",
       "      <td>sumofOutcomesType2</td>\n",
       "      <td>4</td>\n",
       "    </tr>\n",
       "    <tr>\n",
       "      <th>5</th>\n",
       "      <td>sumofOutcomesType3</td>\n",
       "      <td>4</td>\n",
       "    </tr>\n",
       "    <tr>\n",
       "      <th>6</th>\n",
       "      <td>TotalCustomersServed</td>\n",
       "      <td>144</td>\n",
       "    </tr>\n",
       "    <tr>\n",
       "      <th>7</th>\n",
       "      <td>AverageReactionTime</td>\n",
       "      <td>6.349509</td>\n",
       "    </tr>\n",
       "    <tr>\n",
       "      <th>8</th>\n",
       "      <td>AverageSpeed</td>\n",
       "      <td>2</td>\n",
       "    </tr>\n",
       "    <tr>\n",
       "      <th>9</th>\n",
       "      <td>CollisionRate</td>\n",
       "      <td>0</td>\n",
       "    </tr>\n",
       "    <tr>\n",
       "      <th>10</th>\n",
       "      <td>CumulativePointScoreCognitive</td>\n",
       "      <td>568</td>\n",
       "    </tr>\n",
       "    <tr>\n",
       "      <th>11</th>\n",
       "      <td>CumulativePointScoreMotor</td>\n",
       "      <td>396</td>\n",
       "    </tr>\n",
       "  </tbody>\n",
       "</table>\n",
       "</div>"
      ],
      "text/plain": [
       "                        parameter         value\n",
       "0                         Patient  ID:p12_trial\n",
       "1     SessionTerminationCondition     Completed\n",
       "2                 SessionDuration         25.23\n",
       "3              sumofOutcomesType1           140\n",
       "4              sumofOutcomesType2             4\n",
       "5              sumofOutcomesType3             4\n",
       "6            TotalCustomersServed           144\n",
       "7             AverageReactionTime      6.349509\n",
       "8                    AverageSpeed             2\n",
       "9                   CollisionRate             0\n",
       "10  CumulativePointScoreCognitive           568\n",
       "11      CumulativePointScoreMotor           396"
      ]
     },
     "execution_count": 16,
     "metadata": {},
     "output_type": "execute_result"
    }
   ],
   "source": [
    "rep"
   ]
  },
  {
   "cell_type": "markdown",
   "id": "0817f9cd",
   "metadata": {},
   "source": [
    "**quality timestamp check**"
   ]
  },
  {
   "cell_type": "code",
   "execution_count": 17,
   "id": "08db2115",
   "metadata": {},
   "outputs": [
    {
     "name": "stdout",
     "output_type": "stream",
     "text": [
      "15, TIME DISCREPANCY IN DATA\n"
     ]
    }
   ],
   "source": [
    "diff = abs(tsd['t'].iloc[-1] - df['time_msec'].iloc[-1])\n",
    "if diff > 10:\n",
    "    print(f'{diff}, TIME DISCREPANCY IN DATA')\n",
    "else:\n",
    "    print('pass')"
   ]
  },
  {
   "cell_type": "markdown",
   "id": "4e9be90c",
   "metadata": {},
   "source": [
    "### EDA"
   ]
  },
  {
   "cell_type": "markdown",
   "id": "beba26e3",
   "metadata": {},
   "source": [
    "#### wrt svc_event"
   ]
  },
  {
   "cell_type": "markdown",
   "id": "01a14038",
   "metadata": {},
   "source": [
    "##### interpolate sensor data"
   ]
  },
  {
   "cell_type": "markdown",
   "id": "21ef07e0",
   "metadata": {},
   "source": [
    "**merge main**"
   ]
  },
  {
   "cell_type": "code",
   "execution_count": 18,
   "id": "6e1b8575",
   "metadata": {},
   "outputs": [
    {
     "data": {
      "text/html": [
       "<div>\n",
       "<style scoped>\n",
       "    .dataframe tbody tr th:only-of-type {\n",
       "        vertical-align: middle;\n",
       "    }\n",
       "\n",
       "    .dataframe tbody tr th {\n",
       "        vertical-align: top;\n",
       "    }\n",
       "\n",
       "    .dataframe thead th {\n",
       "        text-align: right;\n",
       "    }\n",
       "</style>\n",
       "<table border=\"1\" class=\"dataframe\">\n",
       "  <thead>\n",
       "    <tr style=\"text-align: right;\">\n",
       "      <th></th>\n",
       "      <th>t</th>\n",
       "      <th>event_type</th>\n",
       "      <th>obstacles_outcome</th>\n",
       "      <th>time_msec</th>\n",
       "      <th>rawdatax</th>\n",
       "      <th>rawdatay</th>\n",
       "      <th>rawdatatorqueleft</th>\n",
       "      <th>rawdatatorqueright</th>\n",
       "    </tr>\n",
       "  </thead>\n",
       "  <tbody>\n",
       "    <tr>\n",
       "      <th>0</th>\n",
       "      <td>20</td>\n",
       "      <td>service_event_start</td>\n",
       "      <td>0</td>\n",
       "      <td>20.0</td>\n",
       "      <td>0.171179</td>\n",
       "      <td>0.210688</td>\n",
       "      <td>0.000000</td>\n",
       "      <td>0.000000</td>\n",
       "    </tr>\n",
       "    <tr>\n",
       "      <th>1</th>\n",
       "      <td>9560</td>\n",
       "      <td>retrieval</td>\n",
       "      <td>0</td>\n",
       "      <td>NaN</td>\n",
       "      <td>NaN</td>\n",
       "      <td>NaN</td>\n",
       "      <td>NaN</td>\n",
       "      <td>NaN</td>\n",
       "    </tr>\n",
       "    <tr>\n",
       "      <th>2</th>\n",
       "      <td>14475</td>\n",
       "      <td>outcome_type</td>\n",
       "      <td>1</td>\n",
       "      <td>14475.0</td>\n",
       "      <td>0.200660</td>\n",
       "      <td>0.218554</td>\n",
       "      <td>0.000002</td>\n",
       "      <td>0.116392</td>\n",
       "    </tr>\n",
       "    <tr>\n",
       "      <th>3</th>\n",
       "      <td>14480</td>\n",
       "      <td>service_event_end</td>\n",
       "      <td>1</td>\n",
       "      <td>NaN</td>\n",
       "      <td>NaN</td>\n",
       "      <td>NaN</td>\n",
       "      <td>NaN</td>\n",
       "      <td>NaN</td>\n",
       "    </tr>\n",
       "    <tr>\n",
       "      <th>4</th>\n",
       "      <td>14480</td>\n",
       "      <td>service_event_start</td>\n",
       "      <td>0</td>\n",
       "      <td>NaN</td>\n",
       "      <td>NaN</td>\n",
       "      <td>NaN</td>\n",
       "      <td>NaN</td>\n",
       "      <td>NaN</td>\n",
       "    </tr>\n",
       "    <tr>\n",
       "      <th>...</th>\n",
       "      <td>...</td>\n",
       "      <td>...</td>\n",
       "      <td>...</td>\n",
       "      <td>...</td>\n",
       "      <td>...</td>\n",
       "      <td>...</td>\n",
       "      <td>...</td>\n",
       "      <td>...</td>\n",
       "    </tr>\n",
       "    <tr>\n",
       "      <th>621</th>\n",
       "      <td>1509580</td>\n",
       "      <td>retrieval</td>\n",
       "      <td>0</td>\n",
       "      <td>1509580.0</td>\n",
       "      <td>0.146649</td>\n",
       "      <td>0.054815</td>\n",
       "      <td>0.000000</td>\n",
       "      <td>0.000000</td>\n",
       "    </tr>\n",
       "    <tr>\n",
       "      <th>622</th>\n",
       "      <td>1511430</td>\n",
       "      <td>collision</td>\n",
       "      <td>2</td>\n",
       "      <td>1511430.0</td>\n",
       "      <td>0.114128</td>\n",
       "      <td>0.093821</td>\n",
       "      <td>0.121242</td>\n",
       "      <td>0.460726</td>\n",
       "    </tr>\n",
       "    <tr>\n",
       "      <th>623</th>\n",
       "      <td>1517320</td>\n",
       "      <td>outcome_type</td>\n",
       "      <td>1</td>\n",
       "      <td>NaN</td>\n",
       "      <td>NaN</td>\n",
       "      <td>NaN</td>\n",
       "      <td>NaN</td>\n",
       "      <td>NaN</td>\n",
       "    </tr>\n",
       "    <tr>\n",
       "      <th>624</th>\n",
       "      <td>1517325</td>\n",
       "      <td>service_event_end</td>\n",
       "      <td>1</td>\n",
       "      <td>NaN</td>\n",
       "      <td>NaN</td>\n",
       "      <td>NaN</td>\n",
       "      <td>NaN</td>\n",
       "      <td>NaN</td>\n",
       "    </tr>\n",
       "    <tr>\n",
       "      <th>625</th>\n",
       "      <td>1517325</td>\n",
       "      <td>service_event_start</td>\n",
       "      <td>0</td>\n",
       "      <td>NaN</td>\n",
       "      <td>NaN</td>\n",
       "      <td>NaN</td>\n",
       "      <td>NaN</td>\n",
       "      <td>NaN</td>\n",
       "    </tr>\n",
       "  </tbody>\n",
       "</table>\n",
       "<p>626 rows × 8 columns</p>\n",
       "</div>"
      ],
      "text/plain": [
       "           t           event_type  obstacles_outcome  time_msec  rawdatax  \\\n",
       "0         20  service_event_start                  0       20.0  0.171179   \n",
       "1       9560            retrieval                  0        NaN       NaN   \n",
       "2      14475         outcome_type                  1    14475.0  0.200660   \n",
       "3      14480    service_event_end                  1        NaN       NaN   \n",
       "4      14480  service_event_start                  0        NaN       NaN   \n",
       "..       ...                  ...                ...        ...       ...   \n",
       "621  1509580            retrieval                  0  1509580.0  0.146649   \n",
       "622  1511430            collision                  2  1511430.0  0.114128   \n",
       "623  1517320         outcome_type                  1        NaN       NaN   \n",
       "624  1517325    service_event_end                  1        NaN       NaN   \n",
       "625  1517325  service_event_start                  0        NaN       NaN   \n",
       "\n",
       "     rawdatay  rawdatatorqueleft  rawdatatorqueright  \n",
       "0    0.210688           0.000000            0.000000  \n",
       "1         NaN                NaN                 NaN  \n",
       "2    0.218554           0.000002            0.116392  \n",
       "3         NaN                NaN                 NaN  \n",
       "4         NaN                NaN                 NaN  \n",
       "..        ...                ...                 ...  \n",
       "621  0.054815           0.000000            0.000000  \n",
       "622  0.093821           0.121242            0.460726  \n",
       "623       NaN                NaN                 NaN  \n",
       "624       NaN                NaN                 NaN  \n",
       "625       NaN                NaN                 NaN  \n",
       "\n",
       "[626 rows x 8 columns]"
      ]
     },
     "execution_count": 18,
     "metadata": {},
     "output_type": "execute_result"
    }
   ],
   "source": [
    "main = pd.merge(tsd, df, how='left', left_on='t', right_on='time_msec')\n",
    "main"
   ]
  },
  {
   "cell_type": "code",
   "execution_count": 19,
   "id": "21cf57c2",
   "metadata": {},
   "outputs": [],
   "source": [
    "## fix missing NaN by using nearest timestamp\n",
    "for idx, time in enumerate(main['time_msec']):\n",
    "    if pd.isna(time):\n",
    "        t1=main['t'].iloc[idx]\n",
    "        temp = df.loc[(df['time_msec']<=(t1+15)) & (df['time_msec']>=(t1-15))]\n",
    "        min_=15\n",
    "        for time in temp['time_msec']:\n",
    "            min_ = min(abs(time-t1),min_)\n",
    "            main_min_ = t1-min_\n",
    "        if main_min_ in temp['time_msec'].values:\n",
    "            main_min_ = main_min_\n",
    "        else:\n",
    "            main_min_ = t1+min(abs(time-t1),min_)\n",
    "        main['time_msec'].iloc[idx] = temp.loc[temp['time_msec']==main_min_]['time_msec']\n",
    "        main['rawdatax'].iloc[idx] = temp.loc[temp['time_msec']==main_min_]['rawdatax']\n",
    "        main['rawdatay'].iloc[idx] = temp.loc[temp['time_msec']==main_min_]['rawdatay']\n"
   ]
  },
  {
   "cell_type": "code",
   "execution_count": 20,
   "id": "931f9447",
   "metadata": {},
   "outputs": [],
   "source": [
    "def convert_time(row):\n",
    "    '''convert time to msec'''\n",
    "    minutes, seconds = divmod(row['t'] / 1000, 60)\n",
    "    row['t_min'] = f'{minutes:0>2.0f}'  # only in min\n",
    "    return row"
   ]
  },
  {
   "cell_type": "code",
   "execution_count": 21,
   "id": "f1d4551b",
   "metadata": {},
   "outputs": [],
   "source": [
    "# convert time in main df\n",
    "main = main.apply(convert_time, axis=1)\n",
    "main['t_min'] = main['t_min'].astype(int)"
   ]
  },
  {
   "cell_type": "markdown",
   "id": "7e2e77cd",
   "metadata": {},
   "source": [
    "##### mean speed "
   ]
  },
  {
   "cell_type": "code",
   "execution_count": 22,
   "id": "00b91a75",
   "metadata": {},
   "outputs": [
    {
     "data": {
      "text/html": [
       "<div>\n",
       "<style scoped>\n",
       "    .dataframe tbody tr th:only-of-type {\n",
       "        vertical-align: middle;\n",
       "    }\n",
       "\n",
       "    .dataframe tbody tr th {\n",
       "        vertical-align: top;\n",
       "    }\n",
       "\n",
       "    .dataframe thead th {\n",
       "        text-align: right;\n",
       "    }\n",
       "</style>\n",
       "<table border=\"1\" class=\"dataframe\">\n",
       "  <thead>\n",
       "    <tr style=\"text-align: right;\">\n",
       "      <th></th>\n",
       "      <th>t</th>\n",
       "      <th>event_type</th>\n",
       "      <th>obstacles_outcome</th>\n",
       "      <th>time_msec</th>\n",
       "      <th>rawdatax</th>\n",
       "      <th>rawdatay</th>\n",
       "      <th>rawdatatorqueleft</th>\n",
       "      <th>rawdatatorqueright</th>\n",
       "      <th>t_min</th>\n",
       "    </tr>\n",
       "  </thead>\n",
       "  <tbody>\n",
       "    <tr>\n",
       "      <th>0</th>\n",
       "      <td>20</td>\n",
       "      <td>service_event_start</td>\n",
       "      <td>0</td>\n",
       "      <td>20.0</td>\n",
       "      <td>0.171179</td>\n",
       "      <td>0.210688</td>\n",
       "      <td>0.0</td>\n",
       "      <td>0.0</td>\n",
       "      <td>0</td>\n",
       "    </tr>\n",
       "    <tr>\n",
       "      <th>3</th>\n",
       "      <td>14480</td>\n",
       "      <td>service_event_end</td>\n",
       "      <td>1</td>\n",
       "      <td>14475.0</td>\n",
       "      <td>0.200660</td>\n",
       "      <td>0.218554</td>\n",
       "      <td>NaN</td>\n",
       "      <td>NaN</td>\n",
       "      <td>0</td>\n",
       "    </tr>\n",
       "    <tr>\n",
       "      <th>4</th>\n",
       "      <td>14480</td>\n",
       "      <td>service_event_start</td>\n",
       "      <td>0</td>\n",
       "      <td>14475.0</td>\n",
       "      <td>0.200660</td>\n",
       "      <td>0.218554</td>\n",
       "      <td>NaN</td>\n",
       "      <td>NaN</td>\n",
       "      <td>0</td>\n",
       "    </tr>\n",
       "    <tr>\n",
       "      <th>7</th>\n",
       "      <td>24650</td>\n",
       "      <td>service_event_end</td>\n",
       "      <td>1</td>\n",
       "      <td>24645.0</td>\n",
       "      <td>0.263542</td>\n",
       "      <td>0.214483</td>\n",
       "      <td>NaN</td>\n",
       "      <td>NaN</td>\n",
       "      <td>0</td>\n",
       "    </tr>\n",
       "    <tr>\n",
       "      <th>8</th>\n",
       "      <td>24650</td>\n",
       "      <td>service_event_start</td>\n",
       "      <td>0</td>\n",
       "      <td>24645.0</td>\n",
       "      <td>0.263542</td>\n",
       "      <td>0.214483</td>\n",
       "      <td>NaN</td>\n",
       "      <td>NaN</td>\n",
       "      <td>0</td>\n",
       "    </tr>\n",
       "    <tr>\n",
       "      <th>...</th>\n",
       "      <td>...</td>\n",
       "      <td>...</td>\n",
       "      <td>...</td>\n",
       "      <td>...</td>\n",
       "      <td>...</td>\n",
       "      <td>...</td>\n",
       "      <td>...</td>\n",
       "      <td>...</td>\n",
       "      <td>...</td>\n",
       "    </tr>\n",
       "    <tr>\n",
       "      <th>616</th>\n",
       "      <td>1492045</td>\n",
       "      <td>service_event_start</td>\n",
       "      <td>0</td>\n",
       "      <td>1492046.0</td>\n",
       "      <td>0.197644</td>\n",
       "      <td>0.215287</td>\n",
       "      <td>NaN</td>\n",
       "      <td>NaN</td>\n",
       "      <td>24</td>\n",
       "    </tr>\n",
       "    <tr>\n",
       "      <th>619</th>\n",
       "      <td>1500165</td>\n",
       "      <td>service_event_end</td>\n",
       "      <td>1</td>\n",
       "      <td>1500166.0</td>\n",
       "      <td>0.271358</td>\n",
       "      <td>0.214759</td>\n",
       "      <td>NaN</td>\n",
       "      <td>NaN</td>\n",
       "      <td>25</td>\n",
       "    </tr>\n",
       "    <tr>\n",
       "      <th>620</th>\n",
       "      <td>1500165</td>\n",
       "      <td>service_event_start</td>\n",
       "      <td>0</td>\n",
       "      <td>1500166.0</td>\n",
       "      <td>0.271358</td>\n",
       "      <td>0.214759</td>\n",
       "      <td>NaN</td>\n",
       "      <td>NaN</td>\n",
       "      <td>25</td>\n",
       "    </tr>\n",
       "    <tr>\n",
       "      <th>624</th>\n",
       "      <td>1517325</td>\n",
       "      <td>service_event_end</td>\n",
       "      <td>1</td>\n",
       "      <td>1517310.0</td>\n",
       "      <td>0.145041</td>\n",
       "      <td>0.214659</td>\n",
       "      <td>NaN</td>\n",
       "      <td>NaN</td>\n",
       "      <td>25</td>\n",
       "    </tr>\n",
       "    <tr>\n",
       "      <th>625</th>\n",
       "      <td>1517325</td>\n",
       "      <td>service_event_start</td>\n",
       "      <td>0</td>\n",
       "      <td>1517310.0</td>\n",
       "      <td>0.145041</td>\n",
       "      <td>0.214659</td>\n",
       "      <td>NaN</td>\n",
       "      <td>NaN</td>\n",
       "      <td>25</td>\n",
       "    </tr>\n",
       "  </tbody>\n",
       "</table>\n",
       "<p>297 rows × 9 columns</p>\n",
       "</div>"
      ],
      "text/plain": [
       "           t           event_type  obstacles_outcome  time_msec  rawdatax  \\\n",
       "0         20  service_event_start                  0       20.0  0.171179   \n",
       "3      14480    service_event_end                  1    14475.0  0.200660   \n",
       "4      14480  service_event_start                  0    14475.0  0.200660   \n",
       "7      24650    service_event_end                  1    24645.0  0.263542   \n",
       "8      24650  service_event_start                  0    24645.0  0.263542   \n",
       "..       ...                  ...                ...        ...       ...   \n",
       "616  1492045  service_event_start                  0  1492046.0  0.197644   \n",
       "619  1500165    service_event_end                  1  1500166.0  0.271358   \n",
       "620  1500165  service_event_start                  0  1500166.0  0.271358   \n",
       "624  1517325    service_event_end                  1  1517310.0  0.145041   \n",
       "625  1517325  service_event_start                  0  1517310.0  0.145041   \n",
       "\n",
       "     rawdatay  rawdatatorqueleft  rawdatatorqueright  t_min  \n",
       "0    0.210688                0.0                 0.0      0  \n",
       "3    0.218554                NaN                 NaN      0  \n",
       "4    0.218554                NaN                 NaN      0  \n",
       "7    0.214483                NaN                 NaN      0  \n",
       "8    0.214483                NaN                 NaN      0  \n",
       "..        ...                ...                 ...    ...  \n",
       "616  0.215287                NaN                 NaN     24  \n",
       "619  0.214759                NaN                 NaN     25  \n",
       "620  0.214759                NaN                 NaN     25  \n",
       "624  0.214659                NaN                 NaN     25  \n",
       "625  0.214659                NaN                 NaN     25  \n",
       "\n",
       "[297 rows x 9 columns]"
      ]
     },
     "execution_count": 22,
     "metadata": {},
     "output_type": "execute_result"
    }
   ],
   "source": [
    "svc_event = main[main['event_type'].str.contains('service_event')]\n",
    "svc_event"
   ]
  },
  {
   "cell_type": "code",
   "execution_count": 23,
   "id": "e0ee433e",
   "metadata": {},
   "outputs": [],
   "source": [
    "# index pairs of service_event start/end\n",
    "nr = 0\n",
    "svc_event['sequence'] = 0\n",
    "for index, event in enumerate(svc_event['event_type']):\n",
    "    if event == 'service_event_start':\n",
    "        svc_event['sequence'].iloc[index] = nr\n",
    "    else:\n",
    "        svc_event['sequence'].iloc[index] = nr\n",
    "        nr += 1   "
   ]
  },
  {
   "cell_type": "code",
   "execution_count": 24,
   "id": "fe389783",
   "metadata": {},
   "outputs": [
    {
     "data": {
      "text/html": [
       "<div>\n",
       "<style scoped>\n",
       "    .dataframe tbody tr th:only-of-type {\n",
       "        vertical-align: middle;\n",
       "    }\n",
       "\n",
       "    .dataframe tbody tr th {\n",
       "        vertical-align: top;\n",
       "    }\n",
       "\n",
       "    .dataframe thead th {\n",
       "        text-align: right;\n",
       "    }\n",
       "</style>\n",
       "<table border=\"1\" class=\"dataframe\">\n",
       "  <thead>\n",
       "    <tr style=\"text-align: right;\">\n",
       "      <th></th>\n",
       "      <th>t</th>\n",
       "      <th>event_type</th>\n",
       "      <th>obstacles_outcome</th>\n",
       "      <th>time_msec</th>\n",
       "      <th>rawdatax</th>\n",
       "      <th>rawdatay</th>\n",
       "      <th>rawdatatorqueleft</th>\n",
       "      <th>rawdatatorqueright</th>\n",
       "      <th>t_min</th>\n",
       "      <th>sequence</th>\n",
       "    </tr>\n",
       "  </thead>\n",
       "  <tbody>\n",
       "    <tr>\n",
       "      <th>0</th>\n",
       "      <td>20</td>\n",
       "      <td>service_event_start</td>\n",
       "      <td>0</td>\n",
       "      <td>20.0</td>\n",
       "      <td>0.171179</td>\n",
       "      <td>0.210688</td>\n",
       "      <td>0.0</td>\n",
       "      <td>0.0</td>\n",
       "      <td>0</td>\n",
       "      <td>0</td>\n",
       "    </tr>\n",
       "    <tr>\n",
       "      <th>3</th>\n",
       "      <td>14480</td>\n",
       "      <td>service_event_end</td>\n",
       "      <td>1</td>\n",
       "      <td>14475.0</td>\n",
       "      <td>0.200660</td>\n",
       "      <td>0.218554</td>\n",
       "      <td>NaN</td>\n",
       "      <td>NaN</td>\n",
       "      <td>0</td>\n",
       "      <td>0</td>\n",
       "    </tr>\n",
       "    <tr>\n",
       "      <th>4</th>\n",
       "      <td>14480</td>\n",
       "      <td>service_event_start</td>\n",
       "      <td>0</td>\n",
       "      <td>14475.0</td>\n",
       "      <td>0.200660</td>\n",
       "      <td>0.218554</td>\n",
       "      <td>NaN</td>\n",
       "      <td>NaN</td>\n",
       "      <td>0</td>\n",
       "      <td>1</td>\n",
       "    </tr>\n",
       "    <tr>\n",
       "      <th>7</th>\n",
       "      <td>24650</td>\n",
       "      <td>service_event_end</td>\n",
       "      <td>1</td>\n",
       "      <td>24645.0</td>\n",
       "      <td>0.263542</td>\n",
       "      <td>0.214483</td>\n",
       "      <td>NaN</td>\n",
       "      <td>NaN</td>\n",
       "      <td>0</td>\n",
       "      <td>1</td>\n",
       "    </tr>\n",
       "    <tr>\n",
       "      <th>8</th>\n",
       "      <td>24650</td>\n",
       "      <td>service_event_start</td>\n",
       "      <td>0</td>\n",
       "      <td>24645.0</td>\n",
       "      <td>0.263542</td>\n",
       "      <td>0.214483</td>\n",
       "      <td>NaN</td>\n",
       "      <td>NaN</td>\n",
       "      <td>0</td>\n",
       "      <td>2</td>\n",
       "    </tr>\n",
       "    <tr>\n",
       "      <th>...</th>\n",
       "      <td>...</td>\n",
       "      <td>...</td>\n",
       "      <td>...</td>\n",
       "      <td>...</td>\n",
       "      <td>...</td>\n",
       "      <td>...</td>\n",
       "      <td>...</td>\n",
       "      <td>...</td>\n",
       "      <td>...</td>\n",
       "      <td>...</td>\n",
       "    </tr>\n",
       "    <tr>\n",
       "      <th>616</th>\n",
       "      <td>1492045</td>\n",
       "      <td>service_event_start</td>\n",
       "      <td>0</td>\n",
       "      <td>1492046.0</td>\n",
       "      <td>0.197644</td>\n",
       "      <td>0.215287</td>\n",
       "      <td>NaN</td>\n",
       "      <td>NaN</td>\n",
       "      <td>24</td>\n",
       "      <td>146</td>\n",
       "    </tr>\n",
       "    <tr>\n",
       "      <th>619</th>\n",
       "      <td>1500165</td>\n",
       "      <td>service_event_end</td>\n",
       "      <td>1</td>\n",
       "      <td>1500166.0</td>\n",
       "      <td>0.271358</td>\n",
       "      <td>0.214759</td>\n",
       "      <td>NaN</td>\n",
       "      <td>NaN</td>\n",
       "      <td>25</td>\n",
       "      <td>146</td>\n",
       "    </tr>\n",
       "    <tr>\n",
       "      <th>620</th>\n",
       "      <td>1500165</td>\n",
       "      <td>service_event_start</td>\n",
       "      <td>0</td>\n",
       "      <td>1500166.0</td>\n",
       "      <td>0.271358</td>\n",
       "      <td>0.214759</td>\n",
       "      <td>NaN</td>\n",
       "      <td>NaN</td>\n",
       "      <td>25</td>\n",
       "      <td>147</td>\n",
       "    </tr>\n",
       "    <tr>\n",
       "      <th>624</th>\n",
       "      <td>1517325</td>\n",
       "      <td>service_event_end</td>\n",
       "      <td>1</td>\n",
       "      <td>1517310.0</td>\n",
       "      <td>0.145041</td>\n",
       "      <td>0.214659</td>\n",
       "      <td>NaN</td>\n",
       "      <td>NaN</td>\n",
       "      <td>25</td>\n",
       "      <td>147</td>\n",
       "    </tr>\n",
       "    <tr>\n",
       "      <th>625</th>\n",
       "      <td>1517325</td>\n",
       "      <td>service_event_start</td>\n",
       "      <td>0</td>\n",
       "      <td>1517310.0</td>\n",
       "      <td>0.145041</td>\n",
       "      <td>0.214659</td>\n",
       "      <td>NaN</td>\n",
       "      <td>NaN</td>\n",
       "      <td>25</td>\n",
       "      <td>148</td>\n",
       "    </tr>\n",
       "  </tbody>\n",
       "</table>\n",
       "<p>297 rows × 10 columns</p>\n",
       "</div>"
      ],
      "text/plain": [
       "           t           event_type  obstacles_outcome  time_msec  rawdatax  \\\n",
       "0         20  service_event_start                  0       20.0  0.171179   \n",
       "3      14480    service_event_end                  1    14475.0  0.200660   \n",
       "4      14480  service_event_start                  0    14475.0  0.200660   \n",
       "7      24650    service_event_end                  1    24645.0  0.263542   \n",
       "8      24650  service_event_start                  0    24645.0  0.263542   \n",
       "..       ...                  ...                ...        ...       ...   \n",
       "616  1492045  service_event_start                  0  1492046.0  0.197644   \n",
       "619  1500165    service_event_end                  1  1500166.0  0.271358   \n",
       "620  1500165  service_event_start                  0  1500166.0  0.271358   \n",
       "624  1517325    service_event_end                  1  1517310.0  0.145041   \n",
       "625  1517325  service_event_start                  0  1517310.0  0.145041   \n",
       "\n",
       "     rawdatay  rawdatatorqueleft  rawdatatorqueright  t_min  sequence  \n",
       "0    0.210688                0.0                 0.0      0         0  \n",
       "3    0.218554                NaN                 NaN      0         0  \n",
       "4    0.218554                NaN                 NaN      0         1  \n",
       "7    0.214483                NaN                 NaN      0         1  \n",
       "8    0.214483                NaN                 NaN      0         2  \n",
       "..        ...                ...                 ...    ...       ...  \n",
       "616  0.215287                NaN                 NaN     24       146  \n",
       "619  0.214759                NaN                 NaN     25       146  \n",
       "620  0.214759                NaN                 NaN     25       147  \n",
       "624  0.214659                NaN                 NaN     25       147  \n",
       "625  0.214659                NaN                 NaN     25       148  \n",
       "\n",
       "[297 rows x 10 columns]"
      ]
     },
     "execution_count": 24,
     "metadata": {},
     "output_type": "execute_result"
    }
   ],
   "source": [
    "# check sequence for each service event\n",
    "svc_event"
   ]
  },
  {
   "cell_type": "code",
   "execution_count": 25,
   "id": "e5ab10a8",
   "metadata": {},
   "outputs": [],
   "source": [
    "svc_event[['time_diff','x_diff','y_diff']]=svc_event.groupby('sequence')[['time_msec','rawdatax','rawdatay']].diff()\n",
    "svc_event['step_size'] = np.sqrt(svc_event['x_diff']**2+svc_event['y_diff']**2)\n",
    "svc_event['speed'] = (svc_event['step_size'])/(svc_event['time_diff']/1000)\n",
    "svc_event.drop(columns=['rawdatatorqueleft','rawdatatorqueright'],inplace=True)\n",
    "svc_event = svc_event.dropna()\n",
    "\n",
    "mean_speed = statistics.mean(svc_event['speed'])"
   ]
  },
  {
   "cell_type": "code",
   "execution_count": 26,
   "id": "13d19af8",
   "metadata": {},
   "outputs": [
    {
     "data": {
      "image/png": "[encoded data removed]",
      "text/plain": [
       "<Figure size 432x288 with 1 Axes>"
      ]
     },
     "metadata": {
      "needs_background": "light"
     },
     "output_type": "display_data"
    }
   ],
   "source": [
    "# plot speed and mean_speed\n",
    "plt.plot('sequence','speed',data=svc_event);\n",
    "plt.axhline(y=mean_speed, color='r', linestyle='-')\n",
    "plt.legend(['speed','mean_speed'])\n",
    "plt.xlabel('service event')\n",
    "plt.ylabel('speed/ m/msec')\n",
    "plt.title('speed during play'); "
   ]
  },
  {
   "cell_type": "code",
   "execution_count": 27,
   "id": "f574b7b0",
   "metadata": {},
   "outputs": [
    {
     "data": {
      "text/plain": [
       "144"
      ]
     },
     "execution_count": 27,
     "metadata": {},
     "output_type": "execute_result"
    }
   ],
   "source": [
    "# quality check \n",
    "# rep['TotalCustomersServed']\n",
    "total_svc =  int(rep['value'][6])\n",
    "total_svc"
   ]
  },
  {
   "cell_type": "markdown",
   "id": "509e4795",
   "metadata": {},
   "source": [
    "**how does the system determine a correction/rectification made?**\n"
   ]
  },
  {
   "cell_type": "markdown",
   "id": "9d377419",
   "metadata": {},
   "source": [
    "##### service event errors rate"
   ]
  },
  {
   "cell_type": "markdown",
   "id": "d46c345b",
   "metadata": {},
   "source": [
    " 1 (Correct item & correct person in sequence) \n",
    " <br> 2 (Correct item & wrong person in sequence)\n",
    " <br> 3 (Wrong item & wrong person in sequence)."
   ]
  },
  {
   "cell_type": "code",
   "execution_count": 28,
   "id": "dbfcef12",
   "metadata": {},
   "outputs": [
    {
     "data": {
      "text/plain": [
       "array([1, 3, 2], dtype=int64)"
      ]
     },
     "execution_count": 28,
     "metadata": {},
     "output_type": "execute_result"
    }
   ],
   "source": [
    "svc_error = main[main['event_type']=='service_event_end']['obstacles_outcome'].unique()\n",
    "svc_error"
   ]
  },
  {
   "cell_type": "code",
   "execution_count": 29,
   "id": "8b61b8ae",
   "metadata": {},
   "outputs": [],
   "source": [
    "svc_event.reset_index(inplace=True)\n",
    "total_svc = int(svc_event['sequence'].tail(1))\n",
    "if 2 in svc_error:\n",
    "    svc_error_2 = svc_event[svc_event['obstacles_outcome']==2]['obstacles_outcome'].count()\n",
    "else:\n",
    "    svc_error_2 = 0\n",
    "if 3 in svc_error:\n",
    "    svc_error_3 = svc_event[svc_event['obstacles_outcome']==3]['obstacles_outcome'].count()\n",
    "else:\n",
    "    svc_error_3 = 0"
   ]
  },
  {
   "cell_type": "code",
   "execution_count": 30,
   "id": "b97bd33b",
   "metadata": {},
   "outputs": [
    {
     "data": {
      "text/plain": [
       "0.05442176870748299"
      ]
     },
     "execution_count": 30,
     "metadata": {},
     "output_type": "execute_result"
    }
   ],
   "source": [
    "error_rate = (svc_error_2 + svc_error_3)/total_svc\n",
    "error_rate"
   ]
  },
  {
   "cell_type": "markdown",
   "id": "2ffa6b99",
   "metadata": {},
   "source": [
    "##### collision rate"
   ]
  },
  {
   "cell_type": "markdown",
   "id": "45c7eeea",
   "metadata": {},
   "source": [
    "collisions=1 if shelf\n",
    "<br> collisions=2 if object"
   ]
  },
  {
   "cell_type": "code",
   "execution_count": 31,
   "id": "9a0c8a9e",
   "metadata": {},
   "outputs": [
    {
     "data": {
      "text/plain": [
       "1    30\n",
       "2     7\n",
       "Name: obstacles_outcome, dtype: int64"
      ]
     },
     "execution_count": 31,
     "metadata": {},
     "output_type": "execute_result"
    }
   ],
   "source": [
    "main[main['event_type'].str.contains('collision')]['obstacles_outcome'].value_counts()"
   ]
  },
  {
   "cell_type": "code",
   "execution_count": 32,
   "id": "9de8e453",
   "metadata": {},
   "outputs": [
    {
     "data": {
      "text/plain": [
       "0.25170068027210885"
      ]
     },
     "execution_count": 32,
     "metadata": {},
     "output_type": "execute_result"
    }
   ],
   "source": [
    "coll_1 = main[(main['event_type']=='collision') & (main['obstacles_outcome']==1)]['obstacles_outcome'].count()\n",
    "coll_2 = main[(main['event_type']=='collision') & (main['obstacles_outcome']==2)]['obstacles_outcome'].count()\n",
    "\n",
    "collision_rate = (coll_1 + coll_2)/total_svc\n",
    "collision_rate"
   ]
  },
  {
   "cell_type": "markdown",
   "id": "93f4fbef",
   "metadata": {},
   "source": [
    "#### moving averages"
   ]
  },
  {
   "cell_type": "markdown",
   "id": "08121955",
   "metadata": {},
   "source": [
    "##### mean speed (rolling)"
   ]
  },
  {
   "cell_type": "code",
   "execution_count": 33,
   "id": "e77669c9",
   "metadata": {},
   "outputs": [],
   "source": [
    "# set sequence as index\n",
    "svc_event.set_index('sequence', inplace=True)\n",
    "\n",
    "# just in case\n",
    "svc_event.sort_index(inplace=True)"
   ]
  },
  {
   "cell_type": "code",
   "execution_count": 34,
   "id": "b8def4a8",
   "metadata": {},
   "outputs": [
    {
     "name": "stdout",
     "output_type": "stream",
     "text": [
      "window: 10\n"
     ]
    }
   ],
   "source": [
    "# define window\n",
    "window = int(input(\"window: \"))"
   ]
  },
  {
   "cell_type": "code",
   "execution_count": 35,
   "id": "bc593c1e",
   "metadata": {},
   "outputs": [],
   "source": [
    "# moving average\n",
    "svc_event['speed_7']=svc_event['speed'].rolling(window).mean()"
   ]
  },
  {
   "cell_type": "code",
   "execution_count": 36,
   "id": "53aac579",
   "metadata": {},
   "outputs": [
    {
     "data": {
      "image/png": "[encoded data removed]",
      "text/plain": [
       "<Figure size 432x288 with 1 Axes>"
      ]
     },
     "metadata": {
      "needs_background": "light"
     },
     "output_type": "display_data"
    }
   ],
   "source": [
    "# plot moving average\n",
    "plt.plot('speed_7',data=svc_event);\n",
    "plt.xlabel('svc_event')\n",
    "plt.ylabel('speed/ m/msec')\n",
    "plt.title(f'moving average ({window} svc events) of speed during play'); "
   ]
  },
  {
   "cell_type": "markdown",
   "id": "cc32213c",
   "metadata": {},
   "source": [
    "##### svc event errors rate (rolling)"
   ]
  },
  {
   "cell_type": "code",
   "execution_count": 37,
   "id": "e4089cb8",
   "metadata": {},
   "outputs": [],
   "source": [
    "## define window\n",
    "# window = int(input(\"window: \"))"
   ]
  },
  {
   "cell_type": "code",
   "execution_count": 38,
   "id": "5de24615",
   "metadata": {},
   "outputs": [],
   "source": [
    "svc_event['error_rate'] = np.nan\n",
    "for i in range(0,(len(svc_event)-window+1)):\n",
    "    svc_error = svc_event[svc_event['event_type']=='service_event_end']['obstacles_outcome'][i:i+window].unique()\n",
    "    if 2 in svc_error:\n",
    "        svc_error_2 = svc_event[i:i+window][svc_event['obstacles_outcome']==2]['obstacles_outcome'].count()\n",
    "    else:\n",
    "        svc_error_2 = 0\n",
    "    if 3 in svc_error:\n",
    "        svc_error_3 = svc_event[i:i+window][svc_event['obstacles_outcome']==3]['obstacles_outcome'].count()\n",
    "    else:\n",
    "        svc_error_3 = 0\n",
    "    svc_event['error_rate'][i+window] = (svc_error_2 + svc_error_3)/window"
   ]
  },
  {
   "cell_type": "code",
   "execution_count": 39,
   "id": "83d4fc7e",
   "metadata": {},
   "outputs": [
    {
     "data": {
      "image/png": "[encoded data removed]",
      "text/plain": [
       "<Figure size 432x288 with 1 Axes>"
      ]
     },
     "metadata": {
      "needs_background": "light"
     },
     "output_type": "display_data"
    }
   ],
   "source": [
    "# plot moving average\n",
    "plt.plot('error_rate',data=svc_event);\n",
    "plt.xlabel('service event')\n",
    "plt.ylabel('error rate')\n",
    "plt.title(f'moving average ({window} svc events) of error rate during play'); "
   ]
  },
  {
   "cell_type": "markdown",
   "id": "6b6882a7",
   "metadata": {},
   "source": [
    "##### total collision (svc)"
   ]
  },
  {
   "cell_type": "code",
   "execution_count": 40,
   "id": "157cc232",
   "metadata": {},
   "outputs": [],
   "source": [
    "# define collision df\n",
    "collision = main[main['event_type'].str.contains('collision|service')]"
   ]
  },
  {
   "cell_type": "code",
   "execution_count": 41,
   "id": "e827d6e6",
   "metadata": {},
   "outputs": [],
   "source": [
    "# index pairs of service_event start/end\n",
    "nr = 0\n",
    "collision['sequence'] = 0\n",
    "for index, event in enumerate(collision['event_type']):\n",
    "    if event == 'service_event_start':\n",
    "        collision['sequence'].iloc[index] = nr\n",
    "    elif event == 'collision':\n",
    "        collision['sequence'].iloc[index] = nr\n",
    "    elif event == 'service_event_end':\n",
    "        collision['sequence'].iloc[index] = nr\n",
    "        nr += 1 "
   ]
  },
  {
   "cell_type": "code",
   "execution_count": 42,
   "id": "e1db5410",
   "metadata": {},
   "outputs": [],
   "source": [
    "# collision 1\n",
    "coll_1 = collision[(collision['event_type']=='collision') & (collision['obstacles_outcome']==1)].groupby('sequence').count()[['obstacles_outcome']]\n",
    "coll_1 = coll_1.rename(columns={'obstacles_outcome':'coll_1'})\n",
    "\n",
    "# collision 2\n",
    "coll_2 = collision[(collision['event_type']=='collision') & (collision['obstacles_outcome']==2)].groupby('sequence').count()[['obstacles_outcome']]\n",
    "coll_2 = coll_2.rename(columns={'obstacles_outcome':'coll_2'})\n",
    "\n",
    "# total collisions\n",
    "total_coll = pd.merge(coll_1, coll_2, how='left', on='sequence').replace(np.nan,0)\n",
    "total_coll = total_coll.reindex(range(0,total_coll.index.astype(int)[-1]+1), fill_value=0)\n",
    "total_coll['total_coll'] = total_coll['coll_1'] + total_coll['coll_2']"
   ]
  },
  {
   "cell_type": "code",
   "execution_count": 43,
   "id": "faef2ffb",
   "metadata": {},
   "outputs": [],
   "source": [
    "# mean total obstacles\n",
    "mean_total_obstacles = statistics.mean(total_coll['total_coll'])"
   ]
  },
  {
   "cell_type": "code",
   "execution_count": 44,
   "id": "f66fc660",
   "metadata": {},
   "outputs": [
    {
     "data": {
      "text/html": [
       "<div>\n",
       "<style scoped>\n",
       "    .dataframe tbody tr th:only-of-type {\n",
       "        vertical-align: middle;\n",
       "    }\n",
       "\n",
       "    .dataframe tbody tr th {\n",
       "        vertical-align: top;\n",
       "    }\n",
       "\n",
       "    .dataframe thead th {\n",
       "        text-align: right;\n",
       "    }\n",
       "</style>\n",
       "<table border=\"1\" class=\"dataframe\">\n",
       "  <thead>\n",
       "    <tr style=\"text-align: right;\">\n",
       "      <th></th>\n",
       "      <th>coll_1</th>\n",
       "      <th>coll_2</th>\n",
       "      <th>total_coll</th>\n",
       "    </tr>\n",
       "    <tr>\n",
       "      <th>sequence</th>\n",
       "      <th></th>\n",
       "      <th></th>\n",
       "      <th></th>\n",
       "    </tr>\n",
       "  </thead>\n",
       "  <tbody>\n",
       "    <tr>\n",
       "      <th>0</th>\n",
       "      <td>0</td>\n",
       "      <td>0.0</td>\n",
       "      <td>0.0</td>\n",
       "    </tr>\n",
       "    <tr>\n",
       "      <th>1</th>\n",
       "      <td>0</td>\n",
       "      <td>0.0</td>\n",
       "      <td>0.0</td>\n",
       "    </tr>\n",
       "    <tr>\n",
       "      <th>2</th>\n",
       "      <td>0</td>\n",
       "      <td>0.0</td>\n",
       "      <td>0.0</td>\n",
       "    </tr>\n",
       "    <tr>\n",
       "      <th>3</th>\n",
       "      <td>0</td>\n",
       "      <td>0.0</td>\n",
       "      <td>0.0</td>\n",
       "    </tr>\n",
       "    <tr>\n",
       "      <th>4</th>\n",
       "      <td>0</td>\n",
       "      <td>0.0</td>\n",
       "      <td>0.0</td>\n",
       "    </tr>\n",
       "    <tr>\n",
       "      <th>...</th>\n",
       "      <td>...</td>\n",
       "      <td>...</td>\n",
       "      <td>...</td>\n",
       "    </tr>\n",
       "    <tr>\n",
       "      <th>138</th>\n",
       "      <td>0</td>\n",
       "      <td>0.0</td>\n",
       "      <td>0.0</td>\n",
       "    </tr>\n",
       "    <tr>\n",
       "      <th>139</th>\n",
       "      <td>0</td>\n",
       "      <td>0.0</td>\n",
       "      <td>0.0</td>\n",
       "    </tr>\n",
       "    <tr>\n",
       "      <th>140</th>\n",
       "      <td>0</td>\n",
       "      <td>0.0</td>\n",
       "      <td>0.0</td>\n",
       "    </tr>\n",
       "    <tr>\n",
       "      <th>141</th>\n",
       "      <td>0</td>\n",
       "      <td>0.0</td>\n",
       "      <td>0.0</td>\n",
       "    </tr>\n",
       "    <tr>\n",
       "      <th>142</th>\n",
       "      <td>1</td>\n",
       "      <td>0.0</td>\n",
       "      <td>1.0</td>\n",
       "    </tr>\n",
       "  </tbody>\n",
       "</table>\n",
       "<p>143 rows × 3 columns</p>\n",
       "</div>"
      ],
      "text/plain": [
       "          coll_1  coll_2  total_coll\n",
       "sequence                            \n",
       "0              0     0.0         0.0\n",
       "1              0     0.0         0.0\n",
       "2              0     0.0         0.0\n",
       "3              0     0.0         0.0\n",
       "4              0     0.0         0.0\n",
       "...          ...     ...         ...\n",
       "138            0     0.0         0.0\n",
       "139            0     0.0         0.0\n",
       "140            0     0.0         0.0\n",
       "141            0     0.0         0.0\n",
       "142            1     0.0         1.0\n",
       "\n",
       "[143 rows x 3 columns]"
      ]
     },
     "execution_count": 44,
     "metadata": {},
     "output_type": "execute_result"
    }
   ],
   "source": [
    "total_coll"
   ]
  },
  {
   "cell_type": "code",
   "execution_count": 45,
   "id": "b6b54c95",
   "metadata": {},
   "outputs": [
    {
     "data": {
      "image/png": "[encoded data removed]",
      "text/plain": [
       "<Figure size 432x288 with 1 Axes>"
      ]
     },
     "metadata": {
      "needs_background": "light"
     },
     "output_type": "display_data"
    }
   ],
   "source": [
    "# plot total collision per svc_event\n",
    "plt.plot('total_coll',data=total_coll);\n",
    "plt.axhline(y=mean_total_obstacles, color='r', linestyle='-')\n",
    "plt.xlabel('service event')\n",
    "plt.ylabel('total collision')\n",
    "plt.title('total collision during play'); "
   ]
  },
  {
   "cell_type": "code",
   "execution_count": 46,
   "id": "0e231279",
   "metadata": {},
   "outputs": [
    {
     "data": {
      "text/html": [
       "<div>\n",
       "<style scoped>\n",
       "    .dataframe tbody tr th:only-of-type {\n",
       "        vertical-align: middle;\n",
       "    }\n",
       "\n",
       "    .dataframe tbody tr th {\n",
       "        vertical-align: top;\n",
       "    }\n",
       "\n",
       "    .dataframe thead th {\n",
       "        text-align: right;\n",
       "    }\n",
       "</style>\n",
       "<table border=\"1\" class=\"dataframe\">\n",
       "  <thead>\n",
       "    <tr style=\"text-align: right;\">\n",
       "      <th></th>\n",
       "      <th>t</th>\n",
       "      <th>event_type</th>\n",
       "      <th>obstacles_outcome</th>\n",
       "      <th>time_msec</th>\n",
       "      <th>rawdatax</th>\n",
       "      <th>rawdatay</th>\n",
       "      <th>rawdatatorqueleft</th>\n",
       "      <th>rawdatatorqueright</th>\n",
       "      <th>t_min</th>\n",
       "      <th>sequence</th>\n",
       "    </tr>\n",
       "  </thead>\n",
       "  <tbody>\n",
       "    <tr>\n",
       "      <th>196</th>\n",
       "      <td>440215</td>\n",
       "      <td>service_event_start</td>\n",
       "      <td>0</td>\n",
       "      <td>440216.0</td>\n",
       "      <td>0.214432</td>\n",
       "      <td>0.213880</td>\n",
       "      <td>NaN</td>\n",
       "      <td>NaN</td>\n",
       "      <td>7</td>\n",
       "      <td>48</td>\n",
       "    </tr>\n",
       "    <tr>\n",
       "      <th>197</th>\n",
       "      <td>443630</td>\n",
       "      <td>collision</td>\n",
       "      <td>1</td>\n",
       "      <td>443620.0</td>\n",
       "      <td>0.320870</td>\n",
       "      <td>0.123276</td>\n",
       "      <td>NaN</td>\n",
       "      <td>NaN</td>\n",
       "      <td>7</td>\n",
       "      <td>48</td>\n",
       "    </tr>\n",
       "    <tr>\n",
       "      <th>198</th>\n",
       "      <td>445635</td>\n",
       "      <td>collision</td>\n",
       "      <td>1</td>\n",
       "      <td>445635.0</td>\n",
       "      <td>0.207923</td>\n",
       "      <td>0.059640</td>\n",
       "      <td>0.063046</td>\n",
       "      <td>-0.21824</td>\n",
       "      <td>7</td>\n",
       "      <td>48</td>\n",
       "    </tr>\n",
       "    <tr>\n",
       "      <th>199</th>\n",
       "      <td>446110</td>\n",
       "      <td>collision</td>\n",
       "      <td>1</td>\n",
       "      <td>446111.0</td>\n",
       "      <td>0.200886</td>\n",
       "      <td>0.048381</td>\n",
       "      <td>NaN</td>\n",
       "      <td>NaN</td>\n",
       "      <td>7</td>\n",
       "      <td>48</td>\n",
       "    </tr>\n",
       "    <tr>\n",
       "      <th>202</th>\n",
       "      <td>454440</td>\n",
       "      <td>service_event_end</td>\n",
       "      <td>1</td>\n",
       "      <td>454441.0</td>\n",
       "      <td>0.151023</td>\n",
       "      <td>0.213352</td>\n",
       "      <td>NaN</td>\n",
       "      <td>NaN</td>\n",
       "      <td>7</td>\n",
       "      <td>48</td>\n",
       "    </tr>\n",
       "  </tbody>\n",
       "</table>\n",
       "</div>"
      ],
      "text/plain": [
       "          t           event_type  obstacles_outcome  time_msec  rawdatax  \\\n",
       "196  440215  service_event_start                  0   440216.0  0.214432   \n",
       "197  443630            collision                  1   443620.0  0.320870   \n",
       "198  445635            collision                  1   445635.0  0.207923   \n",
       "199  446110            collision                  1   446111.0  0.200886   \n",
       "202  454440    service_event_end                  1   454441.0  0.151023   \n",
       "\n",
       "     rawdatay  rawdatatorqueleft  rawdatatorqueright  t_min  sequence  \n",
       "196  0.213880                NaN                 NaN      7        48  \n",
       "197  0.123276                NaN                 NaN      7        48  \n",
       "198  0.059640           0.063046            -0.21824      7        48  \n",
       "199  0.048381                NaN                 NaN      7        48  \n",
       "202  0.213352                NaN                 NaN      7        48  "
      ]
     },
     "execution_count": 46,
     "metadata": {},
     "output_type": "execute_result"
    }
   ],
   "source": [
    "# quality check\n",
    "collision[collision['sequence']==48]"
   ]
  },
  {
   "cell_type": "markdown",
   "id": "041a555f",
   "metadata": {},
   "source": [
    "##### total collision (rolling)"
   ]
  },
  {
   "cell_type": "code",
   "execution_count": 47,
   "id": "57e78cda",
   "metadata": {},
   "outputs": [],
   "source": [
    "## define window\n",
    "# window = int(input(\"window: \"))"
   ]
  },
  {
   "cell_type": "code",
   "execution_count": 48,
   "id": "15ea093c",
   "metadata": {},
   "outputs": [],
   "source": [
    "total_coll['total_coll7']=total_coll['total_coll'].rolling(window).mean()"
   ]
  },
  {
   "cell_type": "code",
   "execution_count": 49,
   "id": "0010da35",
   "metadata": {},
   "outputs": [
    {
     "data": {
      "image/png": "[encoded data removed]",
      "text/plain": [
       "<Figure size 432x288 with 1 Axes>"
      ]
     },
     "metadata": {
      "needs_background": "light"
     },
     "output_type": "display_data"
    }
   ],
   "source": [
    "# plot moving average\n",
    "plt.plot('total_coll7',data=total_coll);\n",
    "plt.xlabel('service event')\n",
    "plt.ylabel('collision rate')\n",
    "plt.title(f'moving average ({window} svc events) of total collision during play'); "
   ]
  },
  {
   "cell_type": "markdown",
   "id": "39d5126e",
   "metadata": {},
   "source": [
    "### export data to csv"
   ]
  },
  {
   "cell_type": "code",
   "execution_count": 50,
   "id": "c9a24a63",
   "metadata": {},
   "outputs": [],
   "source": [
    "# mean_speed\n",
    "# error_rate\n",
    "# collision_rate\n",
    "# mean_speed(rolling)\n",
    "# error_rate(rolling)\n",
    "# collision_rate(rolling)\n",
    "\n",
    "with open('result_' + patient_nr + '.csv', mode='a') as file_:\n",
    "    file_.write(\"{},{},{}\".format(mean_speed, error_rate, collision_rate))\n",
    "    file_.write(\"\\n\")  "
   ]
  }
 ],
 "metadata": {
  "kernelspec": {
   "display_name": "Python 3",
   "language": "python",
   "name": "python3"
  },
  "language_info": {
   "codemirror_mode": {
    "name": "ipython",
    "version": 3
   },
   "file_extension": ".py",
   "mimetype": "text/x-python",
   "name": "python",
   "nbconvert_exporter": "python",
   "pygments_lexer": "ipython3",
   "version": "3.8.8"
  },
  "toc": {
   "base_numbering": 1,
   "nav_menu": {},
   "number_sections": true,
   "sideBar": true,
   "skip_h1_title": false,
   "title_cell": "Table of Contents",
   "title_sidebar": "Contents",
   "toc_cell": false,
   "toc_position": {
    "height": "calc(100% - 180px)",
    "left": "10px",
    "top": "150px",
    "width": "304px"
   },
   "toc_section_display": true,
   "toc_window_display": true
  }
 },
 "nbformat": 4,
 "nbformat_minor": 5
}
